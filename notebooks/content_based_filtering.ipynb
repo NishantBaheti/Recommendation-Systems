{
 "cells": [
  {
   "cell_type": "markdown",
   "id": "9f19a026-3015-47a5-a3a2-8d4551aff986",
   "metadata": {},
   "source": [
    "# Content Based Filtering"
   ]
  },
  {
   "cell_type": "code",
   "execution_count": 1,
   "id": "60e55105-69d0-445c-b757-93cc70248887",
   "metadata": {},
   "outputs": [],
   "source": [
    "import numpy as np\n",
    "import tensorflow as tf"
   ]
  },
  {
   "cell_type": "code",
   "execution_count": 2,
   "id": "6eefe677-9e78-4eac-b95c-78974eab8487",
   "metadata": {},
   "outputs": [],
   "source": [
    "users = [ 'user1', 'user2', 'user3', 'user4' ]\n",
    "\n",
    "movies = [ 'movie1', 'movie2', 'movie3', 'movie4', 'movie5' ]\n",
    "\n",
    "features = [ 'action', 'drama', 'scifi', 'comedy', 'animated']\n",
    "\n",
    "n_users = len(users)\n",
    "n_movies = len(movies)\n",
    "n_features = len(features)"
   ]
  },
  {
   "cell_type": "code",
   "execution_count": null,
   "id": "2bbbc19a-367e-45ef-9fcf-b1c6ce09e609",
   "metadata": {},
   "outputs": [],
   "source": []
  }
 ],
 "metadata": {
  "kernelspec": {
   "display_name": "Python 3",
   "language": "python",
   "name": "python3"
  },
  "language_info": {
   "codemirror_mode": {
    "name": "ipython",
    "version": 3
   },
   "file_extension": ".py",
   "mimetype": "text/x-python",
   "name": "python",
   "nbconvert_exporter": "python",
   "pygments_lexer": "ipython3",
   "version": "3.8.3"
  }
 },
 "nbformat": 4,
 "nbformat_minor": 5
}
