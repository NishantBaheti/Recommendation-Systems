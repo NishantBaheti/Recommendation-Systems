{
 "cells": [
  {
   "cell_type": "markdown",
   "id": "9f19a026-3015-47a5-a3a2-8d4551aff986",
   "metadata": {},
   "source": [
    "# Content Based Filtering"
   ]
  },
  {
   "cell_type": "code",
   "execution_count": 1,
   "id": "60e55105-69d0-445c-b757-93cc70248887",
   "metadata": {},
   "outputs": [],
   "source": [
    "import numpy as np\n",
    "import tensorflow as tf"
   ]
  },
  {
   "cell_type": "code",
   "execution_count": 2,
   "id": "6eefe677-9e78-4eac-b95c-78974eab8487",
   "metadata": {},
   "outputs": [],
   "source": [
    "users = [ 'user1', 'user2', 'user3', 'user4' ]\n",
    "\n",
    "movies = [ 'movie1', 'movie2', 'movie3', 'movie4', 'movie5', 'movie6']\n",
    "\n",
    "features = [ 'action', 'drama', 'scifi', 'comedy', 'animated']\n",
    "\n",
    "n_users = len(users)\n",
    "n_movies = len(movies)\n",
    "n_features = len(features)"
   ]
  },
  {
   "cell_type": "markdown",
   "id": "01bd925d-7198-4b1a-8686-df178901c331",
   "metadata": {},
   "source": [
    "## user-item matrix\n",
    "\n",
    "\n",
    "sparse matrix for user and items rating matrix. \n",
    "\n",
    "shape $(n_{users}, n_{items})$"
   ]
  },
  {
   "cell_type": "code",
   "execution_count": 3,
   "id": "4fb1968f-3840-4120-80a0-4dd6873ec334",
   "metadata": {},
   "outputs": [
    {
     "data": {
      "text/plain": [
       "(['user1', 'user2', 'user3', 'user4'],\n",
       " ['movie1', 'movie2', 'movie3', 'movie4', 'movie5', 'movie6'])"
      ]
     },
     "execution_count": 3,
     "metadata": {},
     "output_type": "execute_result"
    }
   ],
   "source": [
    "users, movies"
   ]
  },
  {
   "cell_type": "code",
   "execution_count": 4,
   "id": "2bbbc19a-367e-45ef-9fcf-b1c6ce09e609",
   "metadata": {},
   "outputs": [],
   "source": [
    "user_movies = tf.constant([\n",
    "    [5, 6, 8, 0, 0, 1],\n",
    "    [0, 0, 10, 10, 0, 5],\n",
    "    [0, 9, 5, 5, 0, 0],\n",
    "    [1, 5, 0, 0, 0, 5]\n",
    "], dtype=tf.float32)"
   ]
  },
  {
   "cell_type": "markdown",
   "id": "9cfe55ce-dd69-42d8-b61c-2cb14629ab31",
   "metadata": {},
   "source": [
    "## item-feature martix\n",
    "\n",
    "k-hot encoded matrix of item and feature matrix.\n",
    "\n",
    "shape : $(n_{users}, n_{items})$"
   ]
  },
  {
   "cell_type": "code",
   "execution_count": 5,
   "id": "7667b0c7-0415-4352-80c5-33ef38c44e97",
   "metadata": {},
   "outputs": [
    {
     "data": {
      "text/plain": [
       "(['movie1', 'movie2', 'movie3', 'movie4', 'movie5', 'movie6'],\n",
       " ['action', 'drama', 'scifi', 'comedy', 'animated'])"
      ]
     },
     "execution_count": 5,
     "metadata": {},
     "output_type": "execute_result"
    }
   ],
   "source": [
    "movies, features"
   ]
  },
  {
   "cell_type": "code",
   "execution_count": 6,
   "id": "da927f44-e088-4073-acfb-665c64a60a96",
   "metadata": {},
   "outputs": [],
   "source": [
    "movie_features = tf.constant([\n",
    "    [1, 0, 1, 0 ,0],\n",
    "    [0, 1, 0, 1, 0],\n",
    "    [0, 1, 0, 1, 1],\n",
    "    [1, 1, 0, 0, 1],\n",
    "    [0, 0, 1, 0, 1],\n",
    "    [0, 0, 1, 1, 1]\n",
    "], dtype=tf.float32)"
   ]
  },
  {
   "cell_type": "markdown",
   "id": "131a9b9c-ca84-4123-a308-79f3e28d7c75",
   "metadata": {},
   "source": [
    "## user-feature matrix\n",
    "\n",
    "$(n_{users}, n_{items}) \\times (n_{users}, n_{items})$"
   ]
  },
  {
   "cell_type": "code",
   "execution_count": 7,
   "id": "45a4913e-405b-434a-b7bc-ba926b9aa4b7",
   "metadata": {},
   "outputs": [
    {
     "data": {
      "text/plain": [
       "<tf.Tensor: shape=(4, 5), dtype=float32, numpy=\n",
       "array([[ 5., 14.,  6., 15.,  9.],\n",
       "       [10., 20.,  5., 15., 25.],\n",
       "       [ 5., 19.,  0., 14., 10.],\n",
       "       [ 1.,  5.,  6., 10.,  5.]], dtype=float32)>"
      ]
     },
     "execution_count": 7,
     "metadata": {},
     "output_type": "execute_result"
    }
   ],
   "source": [
    "user_feaures = tf.matmul(user_movies, movie_features)\n",
    "user_feaures"
   ]
  },
  {
   "cell_type": "markdown",
   "id": "7a39bba8-7189-424a-9de8-b5b7dc65c520",
   "metadata": {},
   "source": [
    "normalizing the matrix"
   ]
  },
  {
   "cell_type": "code",
   "execution_count": 8,
   "id": "0f1d69fa-f48c-40d1-a887-357ffbbd93f2",
   "metadata": {},
   "outputs": [
    {
     "data": {
      "text/plain": [
       "<tf.Tensor: shape=(4, 5), dtype=float32, numpy=\n",
       "array([[0.23809524, 0.2413793 , 0.3529412 , 0.2777778 , 0.18367347],\n",
       "       [0.47619048, 0.3448276 , 0.29411766, 0.2777778 , 0.5102041 ],\n",
       "       [0.23809524, 0.3275862 , 0.        , 0.25925925, 0.20408164],\n",
       "       [0.04761905, 0.0862069 , 0.3529412 , 0.18518518, 0.10204082]],\n",
       "      dtype=float32)>"
      ]
     },
     "execution_count": 8,
     "metadata": {},
     "output_type": "execute_result"
    }
   ],
   "source": [
    "user_features_norm = user_feaures / tf.reduce_sum(user_feaures, axis=0, keepdims=True)\n",
    "user_features_norm"
   ]
  },
  {
   "cell_type": "markdown",
   "id": "030cc755-cd30-4e4c-b555-836a5407543f",
   "metadata": {},
   "source": [
    "\n",
    "## user feature preference\n",
    "\n",
    "get top k values from the user-feature matrix.\n",
    "\n",
    "tensorflow's function to get top k values."
   ]
  },
  {
   "cell_type": "code",
   "execution_count": 9,
   "id": "b1761455-4712-4350-9907-48562287ed07",
   "metadata": {},
   "outputs": [
    {
     "data": {
      "text/plain": [
       "TopKV2(values=<tf.Tensor: shape=(4, 1), dtype=float32, numpy=\n",
       "array([[0.3529412],\n",
       "       [0.5102041],\n",
       "       [0.3275862],\n",
       "       [0.3529412]], dtype=float32)>, indices=<tf.Tensor: shape=(4, 1), dtype=int32, numpy=\n",
       "array([[2],\n",
       "       [4],\n",
       "       [1],\n",
       "       [2]], dtype=int32)>)"
      ]
     },
     "execution_count": 9,
     "metadata": {},
     "output_type": "execute_result"
    }
   ],
   "source": [
    "tf.nn.top_k(user_features_norm, k=1)"
   ]
  },
  {
   "cell_type": "code",
   "execution_count": 10,
   "id": "96224320-3d2f-4c42-b9c0-dcf09254a6e6",
   "metadata": {},
   "outputs": [],
   "source": [
    "top_values, top_feature_idx = tf.nn.top_k(user_features_norm, k=n_features)"
   ]
  },
  {
   "cell_type": "code",
   "execution_count": 11,
   "id": "89797d2a-6d81-495c-ae66-32a9d9e10c1f",
   "metadata": {},
   "outputs": [
    {
     "data": {
      "text/plain": [
       "<tf.Tensor: shape=(4, 5), dtype=float32, numpy=\n",
       "array([[0.3529412 , 0.2777778 , 0.2413793 , 0.23809524, 0.18367347],\n",
       "       [0.5102041 , 0.47619048, 0.3448276 , 0.29411766, 0.2777778 ],\n",
       "       [0.3275862 , 0.25925925, 0.23809524, 0.20408164, 0.        ],\n",
       "       [0.3529412 , 0.18518518, 0.10204082, 0.0862069 , 0.04761905]],\n",
       "      dtype=float32)>"
      ]
     },
     "execution_count": 11,
     "metadata": {},
     "output_type": "execute_result"
    }
   ],
   "source": [
    "top_values"
   ]
  },
  {
   "cell_type": "code",
   "execution_count": 12,
   "id": "a4468a5c-0d2d-4a95-aad0-d57b6958e469",
   "metadata": {},
   "outputs": [
    {
     "data": {
      "text/plain": [
       "<tf.Tensor: shape=(4, 5), dtype=int32, numpy=\n",
       "array([[2, 3, 1, 0, 4],\n",
       "       [4, 0, 1, 2, 3],\n",
       "       [1, 3, 0, 4, 2],\n",
       "       [2, 3, 4, 1, 0]], dtype=int32)>"
      ]
     },
     "execution_count": 12,
     "metadata": {},
     "output_type": "execute_result"
    }
   ],
   "source": [
    "top_feature_idx"
   ]
  },
  {
   "cell_type": "code",
   "execution_count": 13,
   "id": "e0baef99-7342-4a5c-9c78-e9f5a2eb085f",
   "metadata": {},
   "outputs": [
    {
     "name": "stdout",
     "output_type": "stream",
     "text": [
      "user1  :  ['scifi', 'comedy', 'drama', 'action', 'animated']\n",
      "user2  :  ['animated', 'action', 'drama', 'scifi', 'comedy']\n",
      "user3  :  ['drama', 'comedy', 'action', 'animated', 'scifi']\n",
      "user4  :  ['scifi', 'comedy', 'animated', 'drama', 'action']\n"
     ]
    }
   ],
   "source": [
    "for i in range(n_users):\n",
    "    print(users[i],\" : \", [features[index] for index in top_feature_idx[i]])"
   ]
  },
  {
   "cell_type": "markdown",
   "id": "1dcb75c5-8540-4faf-83e3-4f333073992b",
   "metadata": {},
   "source": [
    "## Get movie recommendations"
   ]
  },
  {
   "cell_type": "code",
   "execution_count": 14,
   "id": "555a2402-97fd-4f6a-9455-7837a4fea7cb",
   "metadata": {},
   "outputs": [
    {
     "data": {
      "text/plain": [
       "<tf.Tensor: shape=(4, 6), dtype=float32, numpy=\n",
       "array([[0.59103644, 0.5191571 , 0.70283055, 0.66314805, 0.53661466,\n",
       "        0.81439245],\n",
       "       [0.77030814, 0.6226054 , 1.1328094 , 1.3312222 , 0.80432177,\n",
       "        1.0820996 ],\n",
       "       [0.23809524, 0.58684546, 0.7909271 , 0.7697631 , 0.20408164,\n",
       "        0.46334088],\n",
       "       [0.40056023, 0.27139208, 0.3734329 , 0.23586676, 0.454982  ,\n",
       "        0.6401672 ]], dtype=float32)>"
      ]
     },
     "execution_count": 14,
     "metadata": {},
     "output_type": "execute_result"
    }
   ],
   "source": [
    "user_ratings = tf.matmul(user_features_norm, tf.transpose(movie_features))\n",
    "\n",
    "user_ratings"
   ]
  },
  {
   "cell_type": "code",
   "execution_count": 15,
   "id": "799ee475-b03c-4890-88b7-b5a4f46b0a5b",
   "metadata": {},
   "outputs": [
    {
     "data": {
      "text/plain": [
       "<tf.Tensor: shape=(4, 6), dtype=float32, numpy=\n",
       "array([[ 5.,  6.,  8.,  0.,  0.,  1.],\n",
       "       [ 0.,  0., 10., 10.,  0.,  5.],\n",
       "       [ 0.,  9.,  5.,  5.,  0.,  0.],\n",
       "       [ 1.,  5.,  0.,  0.,  0.,  5.]], dtype=float32)>"
      ]
     },
     "execution_count": 15,
     "metadata": {},
     "output_type": "execute_result"
    }
   ],
   "source": [
    "user_movies"
   ]
  },
  {
   "cell_type": "code",
   "execution_count": 16,
   "id": "75c8b936-8506-474d-8168-cc24142ac02b",
   "metadata": {},
   "outputs": [
    {
     "data": {
      "text/plain": [
       "<tf.Tensor: shape=(4, 6), dtype=bool, numpy=\n",
       "array([[False, False, False,  True,  True, False],\n",
       "       [ True,  True, False, False,  True, False],\n",
       "       [ True, False, False, False,  True,  True],\n",
       "       [False, False,  True,  True,  True, False]])>"
      ]
     },
     "execution_count": 16,
     "metadata": {},
     "output_type": "execute_result"
    }
   ],
   "source": [
    "unseen_movies = tf.equal(user_movies, tf.zeros_like(user_movies))\n",
    "unseen_movies"
   ]
  },
  {
   "cell_type": "code",
   "execution_count": 17,
   "id": "c2e8e908-60e7-44dc-95b4-ffe042d50097",
   "metadata": {},
   "outputs": [
    {
     "data": {
      "text/plain": [
       "<tf.Tensor: shape=(4, 6), dtype=float32, numpy=\n",
       "array([[0., 0., 0., 0., 0., 0.],\n",
       "       [0., 0., 0., 0., 0., 0.],\n",
       "       [0., 0., 0., 0., 0., 0.],\n",
       "       [0., 0., 0., 0., 0., 0.]], dtype=float32)>"
      ]
     },
     "execution_count": 17,
     "metadata": {},
     "output_type": "execute_result"
    }
   ],
   "source": [
    "ignore_matrix = tf.zeros_like(user_movies)\n",
    "ignore_matrix"
   ]
  },
  {
   "cell_type": "code",
   "execution_count": 18,
   "id": "c833436e-28b8-4247-b9b0-09850060a5d0",
   "metadata": {},
   "outputs": [
    {
     "data": {
      "text/plain": [
       "<tf.Tensor: shape=(4, 6), dtype=float32, numpy=\n",
       "array([[0.        , 0.        , 0.        , 0.66314805, 0.53661466,\n",
       "        0.        ],\n",
       "       [0.77030814, 0.6226054 , 0.        , 0.        , 0.80432177,\n",
       "        0.        ],\n",
       "       [0.23809524, 0.        , 0.        , 0.        , 0.20408164,\n",
       "        0.46334088],\n",
       "       [0.        , 0.        , 0.3734329 , 0.23586676, 0.454982  ,\n",
       "        0.        ]], dtype=float32)>"
      ]
     },
     "execution_count": 18,
     "metadata": {},
     "output_type": "execute_result"
    }
   ],
   "source": [
    "new_ratings = tf.where(condition=unseen_movies, x=user_ratings, y=ignore_matrix)\n",
    "\n",
    "new_ratings"
   ]
  },
  {
   "cell_type": "markdown",
   "id": "c3bbef38-952e-4636-bcd5-54ebef911304",
   "metadata": {},
   "source": [
    "### 2 movie recommendations"
   ]
  },
  {
   "cell_type": "code",
   "execution_count": 19,
   "id": "c4f5310e-9b75-4c43-ab5c-7a6b2fe71f66",
   "metadata": {},
   "outputs": [],
   "source": [
    "top_movies_idx = tf.nn.top_k(user_ratings, k = 2)[1]"
   ]
  },
  {
   "cell_type": "code",
   "execution_count": 20,
   "id": "6413de96-ca7a-45dd-ac3a-79faad11f6c6",
   "metadata": {},
   "outputs": [
    {
     "name": "stdout",
     "output_type": "stream",
     "text": [
      "user1 ['movie6', 'movie3']\n",
      "user2 ['movie4', 'movie3']\n",
      "user3 ['movie3', 'movie4']\n",
      "user4 ['movie6', 'movie5']\n"
     ]
    }
   ],
   "source": [
    "for i in range(n_users):\n",
    "    print(users[i], [movies[index] for index in top_movies_idx[i]])"
   ]
  }
 ],
 "metadata": {
  "kernelspec": {
   "display_name": "Python 3",
   "language": "python",
   "name": "python3"
  },
  "language_info": {
   "codemirror_mode": {
    "name": "ipython",
    "version": 3
   },
   "file_extension": ".py",
   "mimetype": "text/x-python",
   "name": "python",
   "nbconvert_exporter": "python",
   "pygments_lexer": "ipython3",
   "version": "3.8.3"
  }
 },
 "nbformat": 4,
 "nbformat_minor": 5
}
