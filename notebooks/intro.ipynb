{
 "cells": [
  {
   "cell_type": "markdown",
   "metadata": {},
   "source": [
    "# Recommendation Systems"
   ]
  },
  {
   "cell_type": "markdown",
   "metadata": {},
   "source": [
    "A Recommendation System is as name suggests generate recommendations for of items for a product (Movies, Shopping goods, Courses etc.)\n",
    "\n",
    "Some types of recommendation systems - \n",
    "- Collaborative Filtering\n",
    "- Content based filtering\n",
    "- Hybrid Systems"
   ]
  },
  {
   "cell_type": "markdown",
   "metadata": {},
   "source": [
    "## Collaborative Filtering"
   ]
  },
  {
   "cell_type": "markdown",
   "metadata": {},
   "source": [
    "- Collaborative filtering is based on the assumption that people who agreed in the past will agree in the future, and they will like similar kinds of items as they liked in the past.\n",
    "- This system generates recommendations using only information about rating profile for different users or items.\n",
    "- Algorithms to measure user similarity and item similarity - Nearest Neighbour, pearson correlation etc."
   ]
  },
  {
   "cell_type": "markdown",
   "metadata": {},
   "source": [
    "Good thing with CF is that It doesn't need to understand the item itself. Just understand the pattern and get the ability to give accurate predictions.\n",
    "\n",
    "But problems are\n",
    "| Problem | Description |\n",
    "|-|-|\n",
    "| Cold Start  | New users -> less data -> less accurate recommendations. |\n",
    "| Scalability | If we are creating for millions of users and products then computation power requirement is high. |\n",
    "| Sparsity    | Not necessarily every item is rated, the a lot of missing data while creating the matrix. |"
   ]
  },
  {
   "cell_type": "markdown",
   "metadata": {},
   "source": [
    "## Content Based Filtering"
   ]
  },
  {
   "cell_type": "markdown",
   "metadata": {},
   "source": [
    "This method actually uses the descripion of item and profile of user preferences. best suited when we have certain information about the item like \n",
    "name, location, description, etc.\n",
    "\n",
    "We focus on the item's information and build a classifier for user specific likes and dislikes based on item's feature.\n",
    "\n",
    "A `user profile` is built to indicate the type of items that this user likes. Algorithm tries to give recommendation based on user's preferences like liked items in the past or examining items in the present. Various candidate items are compared with items previously rated by the user and best matching items are recommended.\n",
    "\n",
    "Information retrieval and intformation filtering plays important role here.\n",
    "\n",
    "\n",
    "- User profile needs two things -\n",
    "  - A model with user preference.\n",
    "  - A history of the user's interaction with recommender system.\n"
   ]
  },
  {
   "cell_type": "markdown",
   "metadata": {},
   "source": [
    "Some algorithms that are used in the process - \n",
    "1. Tf-IDf vectorizer, Word2Vec, BERT, GPT3 (Vector space representation)\n",
    "2. Bayesian Classifier, Cluster Analysis, Decision Trees and Neural Network to estimate probabilities that user is going to like the item."
   ]
  },
  {
   "cell_type": "markdown",
   "metadata": {},
   "source": []
  }
 ],
 "metadata": {
  "interpreter": {
   "hash": "dba788e4a50ad11c3aca04f6a487ccbbf2decea49c956f88ab099965f16291a4"
  },
  "kernelspec": {
   "display_name": "Python 3.8.3 64-bit ('base': conda)",
   "language": "python",
   "name": "python3"
  },
  "language_info": {
   "name": "python",
   "version": "3.8.3"
  },
  "orig_nbformat": 4
 },
 "nbformat": 4,
 "nbformat_minor": 2
}
