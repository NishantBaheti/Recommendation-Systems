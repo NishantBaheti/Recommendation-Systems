{
 "cells": [
  {
   "cell_type": "code",
   "execution_count": 2,
   "metadata": {},
   "outputs": [],
   "source": [
    "import numpy as np\n",
    "import pandas as pd"
   ]
  },
  {
   "cell_type": "code",
   "execution_count": 3,
   "metadata": {},
   "outputs": [],
   "source": [
    "df = pd.read_csv('./datasets/Courses.csv')"
   ]
  },
  {
   "cell_type": "code",
   "execution_count": 4,
   "metadata": {},
   "outputs": [
    {
     "data": {
      "text/html": [
       "<div>\n",
       "<style scoped>\n",
       "    .dataframe tbody tr th:only-of-type {\n",
       "        vertical-align: middle;\n",
       "    }\n",
       "\n",
       "    .dataframe tbody tr th {\n",
       "        vertical-align: top;\n",
       "    }\n",
       "\n",
       "    .dataframe thead th {\n",
       "        text-align: right;\n",
       "    }\n",
       "</style>\n",
       "<table border=\"1\" class=\"dataframe\">\n",
       "  <thead>\n",
       "    <tr style=\"text-align: right;\">\n",
       "      <th></th>\n",
       "      <th>CourseId</th>\n",
       "      <th>CourseTitle</th>\n",
       "      <th>DurationInSeconds</th>\n",
       "      <th>ReleaseDate</th>\n",
       "      <th>Description</th>\n",
       "      <th>AssessmentStatus</th>\n",
       "      <th>IsCourseRetired</th>\n",
       "    </tr>\n",
       "  </thead>\n",
       "  <tbody>\n",
       "    <tr>\n",
       "      <th>0</th>\n",
       "      <td>introduction-google-workspace-administration</td>\n",
       "      <td>Introduction to Google Workspace Administration</td>\n",
       "      <td>1572</td>\n",
       "      <td>2022-01-11</td>\n",
       "      <td>Introduction to Google Workspace Administratio...</td>\n",
       "      <td>None</td>\n",
       "      <td>no</td>\n",
       "    </tr>\n",
       "    <tr>\n",
       "      <th>1</th>\n",
       "      <td>google-workspace-security-1</td>\n",
       "      <td>Google Workspace Security</td>\n",
       "      <td>987</td>\n",
       "      <td>2022-01-11</td>\n",
       "      <td>Google Workspace Security is the third course ...</td>\n",
       "      <td>None</td>\n",
       "      <td>no</td>\n",
       "    </tr>\n",
       "    <tr>\n",
       "      <th>2</th>\n",
       "      <td>deploying-managing-windows-workloads-google-cloud</td>\n",
       "      <td>Deploying and Managing Windows Workloads on Go...</td>\n",
       "      <td>10964</td>\n",
       "      <td>2022-01-11</td>\n",
       "      <td>This course teaches you about deploying and ma...</td>\n",
       "      <td>None</td>\n",
       "      <td>no</td>\n",
       "    </tr>\n",
       "    <tr>\n",
       "      <th>3</th>\n",
       "      <td>google-workspace-mail-management-1</td>\n",
       "      <td>Google Workspace Mail Management</td>\n",
       "      <td>1822</td>\n",
       "      <td>2022-01-11</td>\n",
       "      <td>Google Workspace Mail Management is the fourth...</td>\n",
       "      <td>None</td>\n",
       "      <td>no</td>\n",
       "    </tr>\n",
       "    <tr>\n",
       "      <th>4</th>\n",
       "      <td>oracle-database-program-plsql-creating-package...</td>\n",
       "      <td>Oracle Database Program with PL/SQL Exam Numbe...</td>\n",
       "      <td>4072</td>\n",
       "      <td>2022-01-11</td>\n",
       "      <td>This course will help you prepare for your PL/...</td>\n",
       "      <td>None</td>\n",
       "      <td>no</td>\n",
       "    </tr>\n",
       "  </tbody>\n",
       "</table>\n",
       "</div>"
      ],
      "text/plain": [
       "                                            CourseId  \\\n",
       "0       introduction-google-workspace-administration   \n",
       "1                        google-workspace-security-1   \n",
       "2  deploying-managing-windows-workloads-google-cloud   \n",
       "3                 google-workspace-mail-management-1   \n",
       "4  oracle-database-program-plsql-creating-package...   \n",
       "\n",
       "                                         CourseTitle  DurationInSeconds  \\\n",
       "0    Introduction to Google Workspace Administration               1572   \n",
       "1                          Google Workspace Security                987   \n",
       "2  Deploying and Managing Windows Workloads on Go...              10964   \n",
       "3                   Google Workspace Mail Management               1822   \n",
       "4  Oracle Database Program with PL/SQL Exam Numbe...               4072   \n",
       "\n",
       "  ReleaseDate                                        Description  \\\n",
       "0  2022-01-11  Introduction to Google Workspace Administratio...   \n",
       "1  2022-01-11  Google Workspace Security is the third course ...   \n",
       "2  2022-01-11  This course teaches you about deploying and ma...   \n",
       "3  2022-01-11  Google Workspace Mail Management is the fourth...   \n",
       "4  2022-01-11  This course will help you prepare for your PL/...   \n",
       "\n",
       "  AssessmentStatus IsCourseRetired  \n",
       "0             None              no  \n",
       "1             None              no  \n",
       "2             None              no  \n",
       "3             None              no  \n",
       "4             None              no  "
      ]
     },
     "execution_count": 4,
     "metadata": {},
     "output_type": "execute_result"
    }
   ],
   "source": [
    "df.head()"
   ]
  },
  {
   "cell_type": "code",
   "execution_count": 6,
   "metadata": {},
   "outputs": [
    {
     "name": "stdout",
     "output_type": "stream",
     "text": [
      "<class 'pandas.core.frame.DataFrame'>\n",
      "RangeIndex: 13471 entries, 0 to 13470\n",
      "Data columns (total 7 columns):\n",
      " #   Column             Non-Null Count  Dtype \n",
      "---  ------             --------------  ----- \n",
      " 0   CourseId           13471 non-null  object\n",
      " 1   CourseTitle        13471 non-null  object\n",
      " 2   DurationInSeconds  13471 non-null  int64 \n",
      " 3   ReleaseDate        13471 non-null  object\n",
      " 4   Description        13471 non-null  object\n",
      " 5   AssessmentStatus   13471 non-null  object\n",
      " 6   IsCourseRetired    13471 non-null  object\n",
      "dtypes: int64(1), object(6)\n",
      "memory usage: 736.8+ KB\n"
     ]
    }
   ],
   "source": [
    "df.info()"
   ]
  },
  {
   "cell_type": "code",
   "execution_count": 16,
   "metadata": {},
   "outputs": [
    {
     "data": {
      "text/plain": [
       "0        Introduction to Google Workspace Administratio...\n",
       "1        Google Workspace Security is the third course ...\n",
       "2        This course teaches you about deploying and ma...\n",
       "3        Google Workspace Mail Management is the fourth...\n",
       "4        This course will help you prepare for your PL/...\n",
       "                               ...                        \n",
       "13466    In this collection of lessons, we will learn a...\n",
       "13467    In this series of tutorials, we will be creati...\n",
       "13468    Django is the most popular and most mature Pyt...\n",
       "13469    React is a library with so much power, but so ...\n",
       "13470    Play by Play is a series in which top technolo...\n",
       "Name: Description, Length: 13471, dtype: object"
      ]
     },
     "execution_count": 16,
     "metadata": {},
     "output_type": "execute_result"
    }
   ],
   "source": [
    "df.Description"
   ]
  },
  {
   "cell_type": "code",
   "execution_count": null,
   "metadata": {},
   "outputs": [],
   "source": []
  }
 ],
 "metadata": {
  "kernelspec": {
   "display_name": "Python 3.8.3 64-bit ('base': conda)",
   "language": "python",
   "name": "python383jvsc74a57bd0dba788e4a50ad11c3aca04f6a487ccbbf2decea49c956f88ab099965f16291a4"
  },
  "language_info": {
   "codemirror_mode": {
    "name": "ipython",
    "version": 3
   },
   "file_extension": ".py",
   "mimetype": "text/x-python",
   "name": "python",
   "nbconvert_exporter": "python",
   "pygments_lexer": "ipython3",
   "version": "3.8.3"
  }
 },
 "nbformat": 4,
 "nbformat_minor": 4
}
