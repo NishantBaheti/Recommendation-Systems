{
 "cells": [
  {
   "cell_type": "markdown",
   "id": "947529b2-970f-4b0d-9abb-dcc5727960a2",
   "metadata": {},
   "source": [
    "# Alternating Least Squares"
   ]
  },
  {
   "cell_type": "markdown",
   "id": "a535473f-b6ba-4dc6-b477-8f25be80b4b1",
   "metadata": {},
   "source": [
    "ALS algorithm works by alternating between rows and columns to factorized the matrix."
   ]
  },
  {
   "cell_type": "markdown",
   "id": "4e739a19-d4da-4140-b49c-241adacc88e0",
   "metadata": {},
   "source": [
    "Stochastic Gradient Descent \n",
    "\n",
    "- Flexibility\n",
    "- Parallel\n",
    "- Slower\n",
    "- Hard to handle unobserved interaction (sparsity)\n",
    "\n",
    "Alternating Least Square \n",
    "\n",
    "- basically ordinary least square method only\n",
    "- Parallel\n",
    "- Faster\n",
    "- Easy to handle sparsity"
   ]
  },
  {
   "cell_type": "markdown",
   "id": "28b8ae61-86eb-44c1-84f6-d1c521b63cf0",
   "metadata": {},
   "source": [
    "\n",
    "## Algorithm\n",
    "\n",
    "1. Initiate row factor U, column factor V\n",
    "2. Repeat until convergence\n",
    "    1. for i=1 to n do   (iterating over rows)\n",
    "        \n",
    "        $u_i = (\\sum_{r_{{i,j} \\in r_{i*}}} {v_j v_j^T + \\lambda I_k })^{-1} \\sum_{r_{i,j} \\in r_{i*}}{r_{ij} v_j}$\n",
    "        \n",
    "       end for  [solving for row factors when column factors are features]\n",
    "    \n",
    "    2. for i=1 to m do   (iterative over columns)\n",
    "       \n",
    "        $v_i = (\\sum_{r_{{i,j} \\in r_{*j}}} {u_i u_i^T + \\lambda I_k })^{-1} \\sum_{r_{i,j} \\in r_{*j}}{r_{ij} u_i}$\n",
    "       \n",
    "       end for [solving for column factors when row factors are features]\n",
    "       \n",
    "       \n",
    "Where\\\n",
    "    U = row factor matrix\\\n",
    "    V = column factor matrix\\\n",
    "    r = ratings"
   ]
  },
  {
   "cell_type": "markdown",
   "id": "f401b443-58e6-43c7-8d1d-468c0ba3de5d",
   "metadata": {},
   "source": [
    "## Approach\n",
    "\n",
    "\n",
    "```sql\n",
    "    \n",
    "              movies (n)                         k                  n\n",
    "            +---------------------+        +------+   +----------------------+\n",
    "            |                     |        |      | x |      movie           | k\n",
    "            |                     |        | user |   |      factor          |      V\n",
    "            |                     |        |factor|   +----------------------+\n",
    "  users(m)  |                     |        |      |\n",
    "            |     RATINGS         |    ~   |      |\n",
    "            |                     |    ~   |      | m\n",
    "            |                     |        |      |\n",
    "            |                     |        |      |\n",
    "            |                     |        |      |\n",
    "            +---------------------+        +------+\n",
    "                                                U\n",
    "```\n",
    "\n",
    "Iterative Algorithm \n",
    "\n",
    "* fix V, compute U\n",
    "* fix U, compute V"
   ]
  }
 ],
 "metadata": {
  "kernelspec": {
   "display_name": "Python 3",
   "language": "python",
   "name": "python3"
  },
  "language_info": {
   "codemirror_mode": {
    "name": "ipython",
    "version": 3
   },
   "file_extension": ".py",
   "mimetype": "text/x-python",
   "name": "python",
   "nbconvert_exporter": "python",
   "pygments_lexer": "ipython3",
   "version": "3.8.3"
  }
 },
 "nbformat": 4,
 "nbformat_minor": 5
}
