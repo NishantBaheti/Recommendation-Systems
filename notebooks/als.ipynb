{
 "cells": [
  {
   "cell_type": "markdown",
   "id": "947529b2-970f-4b0d-9abb-dcc5727960a2",
   "metadata": {},
   "source": [
    "# Alternating Least Squares"
   ]
  },
  {
   "cell_type": "markdown",
   "id": "514a942f-6596-49f5-896e-7314f22d832e",
   "metadata": {},
   "source": [
    "Common steps for Recommendation Systems"
   ]
  },
  {
   "cell_type": "code",
   "execution_count": 1,
   "id": "1c7039f4-2599-4a66-b3e9-a462d7a43a4c",
   "metadata": {},
   "outputs": [],
   "source": [
    "import pandas as pd\n",
    "import numpy as np\n",
    "\n",
    "import matplotlib.pyplot as plt"
   ]
  },
  {
   "cell_type": "code",
   "execution_count": 2,
   "id": "82516338-ea53-4e77-bccf-9f9e4e4f3b63",
   "metadata": {},
   "outputs": [
    {
     "data": {
      "text/html": [
       "<div>\n",
       "<style scoped>\n",
       "    .dataframe tbody tr th:only-of-type {\n",
       "        vertical-align: middle;\n",
       "    }\n",
       "\n",
       "    .dataframe tbody tr th {\n",
       "        vertical-align: top;\n",
       "    }\n",
       "\n",
       "    .dataframe thead th {\n",
       "        text-align: right;\n",
       "    }\n",
       "</style>\n",
       "<table border=\"1\" class=\"dataframe\">\n",
       "  <thead>\n",
       "    <tr style=\"text-align: right;\">\n",
       "      <th></th>\n",
       "      <th>userId</th>\n",
       "      <th>movieId</th>\n",
       "      <th>rating</th>\n",
       "      <th>timestamp</th>\n",
       "    </tr>\n",
       "  </thead>\n",
       "  <tbody>\n",
       "    <tr>\n",
       "      <th>0</th>\n",
       "      <td>1</td>\n",
       "      <td>1</td>\n",
       "      <td>4.0</td>\n",
       "      <td>964982703</td>\n",
       "    </tr>\n",
       "    <tr>\n",
       "      <th>1</th>\n",
       "      <td>1</td>\n",
       "      <td>3</td>\n",
       "      <td>4.0</td>\n",
       "      <td>964981247</td>\n",
       "    </tr>\n",
       "    <tr>\n",
       "      <th>2</th>\n",
       "      <td>1</td>\n",
       "      <td>6</td>\n",
       "      <td>4.0</td>\n",
       "      <td>964982224</td>\n",
       "    </tr>\n",
       "    <tr>\n",
       "      <th>3</th>\n",
       "      <td>1</td>\n",
       "      <td>47</td>\n",
       "      <td>5.0</td>\n",
       "      <td>964983815</td>\n",
       "    </tr>\n",
       "    <tr>\n",
       "      <th>4</th>\n",
       "      <td>1</td>\n",
       "      <td>50</td>\n",
       "      <td>5.0</td>\n",
       "      <td>964982931</td>\n",
       "    </tr>\n",
       "  </tbody>\n",
       "</table>\n",
       "</div>"
      ],
      "text/plain": [
       "   userId  movieId  rating  timestamp\n",
       "0       1        1     4.0  964982703\n",
       "1       1        3     4.0  964981247\n",
       "2       1        6     4.0  964982224\n",
       "3       1       47     5.0  964983815\n",
       "4       1       50     5.0  964982931"
      ]
     },
     "execution_count": 2,
     "metadata": {},
     "output_type": "execute_result"
    }
   ],
   "source": [
    "ratings = pd.read_csv('/opt/datasetsRepo/RecommendationData/ratings.csv')\n",
    "ratings.head()"
   ]
  },
  {
   "cell_type": "code",
   "execution_count": 3,
   "id": "3ff6a8d2-7f4b-4fe0-bd28-2ed088f2cdb2",
   "metadata": {},
   "outputs": [],
   "source": [
    "idx_to_userid_mapper = dict(enumerate(ratings.userId.unique()))\n",
    "userid_to_idx_mapper = dict(zip(idx_to_userid_mapper.values(), idx_to_userid_mapper.keys()))"
   ]
  },
  {
   "cell_type": "code",
   "execution_count": 4,
   "id": "e427d32b-819d-4274-8df7-9ccc39ff1623",
   "metadata": {},
   "outputs": [],
   "source": [
    "idx_to_movieid_mapper = dict(enumerate(ratings.movieId.unique()))\n",
    "movieid_to_idx_mapper = dict(zip(idx_to_movieid_mapper.values(), idx_to_movieid_mapper.keys()))"
   ]
  },
  {
   "cell_type": "code",
   "execution_count": 5,
   "id": "9c546f60-1ccf-48df-927c-3d593125cc05",
   "metadata": {},
   "outputs": [
    {
     "data": {
      "text/plain": [
       "(610, 610)"
      ]
     },
     "execution_count": 5,
     "metadata": {},
     "output_type": "execute_result"
    }
   ],
   "source": [
    "len(idx_to_userid_mapper), len(userid_to_idx_mapper)"
   ]
  },
  {
   "cell_type": "code",
   "execution_count": 6,
   "id": "2a9a9d85-5ddb-4c88-9b5b-44d4ebdf9ea9",
   "metadata": {},
   "outputs": [
    {
     "data": {
      "text/plain": [
       "(9724, 9724)"
      ]
     },
     "execution_count": 6,
     "metadata": {},
     "output_type": "execute_result"
    }
   ],
   "source": [
    "len(idx_to_movieid_mapper), len(movieid_to_idx_mapper)"
   ]
  },
  {
   "cell_type": "code",
   "execution_count": 7,
   "id": "e9cdc501-7518-4878-a72d-35b4a90e81df",
   "metadata": {},
   "outputs": [
    {
     "data": {
      "text/html": [
       "<div>\n",
       "<style scoped>\n",
       "    .dataframe tbody tr th:only-of-type {\n",
       "        vertical-align: middle;\n",
       "    }\n",
       "\n",
       "    .dataframe tbody tr th {\n",
       "        vertical-align: top;\n",
       "    }\n",
       "\n",
       "    .dataframe thead th {\n",
       "        text-align: right;\n",
       "    }\n",
       "</style>\n",
       "<table border=\"1\" class=\"dataframe\">\n",
       "  <thead>\n",
       "    <tr style=\"text-align: right;\">\n",
       "      <th></th>\n",
       "      <th>userId</th>\n",
       "      <th>movieId</th>\n",
       "      <th>rating</th>\n",
       "      <th>timestamp</th>\n",
       "      <th>user_idx</th>\n",
       "      <th>movie_idx</th>\n",
       "    </tr>\n",
       "  </thead>\n",
       "  <tbody>\n",
       "    <tr>\n",
       "      <th>0</th>\n",
       "      <td>1</td>\n",
       "      <td>1</td>\n",
       "      <td>4.0</td>\n",
       "      <td>964982703</td>\n",
       "      <td>0</td>\n",
       "      <td>0</td>\n",
       "    </tr>\n",
       "    <tr>\n",
       "      <th>1</th>\n",
       "      <td>1</td>\n",
       "      <td>3</td>\n",
       "      <td>4.0</td>\n",
       "      <td>964981247</td>\n",
       "      <td>0</td>\n",
       "      <td>1</td>\n",
       "    </tr>\n",
       "    <tr>\n",
       "      <th>2</th>\n",
       "      <td>1</td>\n",
       "      <td>6</td>\n",
       "      <td>4.0</td>\n",
       "      <td>964982224</td>\n",
       "      <td>0</td>\n",
       "      <td>2</td>\n",
       "    </tr>\n",
       "    <tr>\n",
       "      <th>3</th>\n",
       "      <td>1</td>\n",
       "      <td>47</td>\n",
       "      <td>5.0</td>\n",
       "      <td>964983815</td>\n",
       "      <td>0</td>\n",
       "      <td>3</td>\n",
       "    </tr>\n",
       "    <tr>\n",
       "      <th>4</th>\n",
       "      <td>1</td>\n",
       "      <td>50</td>\n",
       "      <td>5.0</td>\n",
       "      <td>964982931</td>\n",
       "      <td>0</td>\n",
       "      <td>4</td>\n",
       "    </tr>\n",
       "    <tr>\n",
       "      <th>5</th>\n",
       "      <td>1</td>\n",
       "      <td>70</td>\n",
       "      <td>3.0</td>\n",
       "      <td>964982400</td>\n",
       "      <td>0</td>\n",
       "      <td>5</td>\n",
       "    </tr>\n",
       "    <tr>\n",
       "      <th>6</th>\n",
       "      <td>1</td>\n",
       "      <td>101</td>\n",
       "      <td>5.0</td>\n",
       "      <td>964980868</td>\n",
       "      <td>0</td>\n",
       "      <td>6</td>\n",
       "    </tr>\n",
       "    <tr>\n",
       "      <th>7</th>\n",
       "      <td>1</td>\n",
       "      <td>110</td>\n",
       "      <td>4.0</td>\n",
       "      <td>964982176</td>\n",
       "      <td>0</td>\n",
       "      <td>7</td>\n",
       "    </tr>\n",
       "    <tr>\n",
       "      <th>8</th>\n",
       "      <td>1</td>\n",
       "      <td>151</td>\n",
       "      <td>5.0</td>\n",
       "      <td>964984041</td>\n",
       "      <td>0</td>\n",
       "      <td>8</td>\n",
       "    </tr>\n",
       "    <tr>\n",
       "      <th>9</th>\n",
       "      <td>1</td>\n",
       "      <td>157</td>\n",
       "      <td>5.0</td>\n",
       "      <td>964984100</td>\n",
       "      <td>0</td>\n",
       "      <td>9</td>\n",
       "    </tr>\n",
       "  </tbody>\n",
       "</table>\n",
       "</div>"
      ],
      "text/plain": [
       "   userId  movieId  rating  timestamp  user_idx  movie_idx\n",
       "0       1        1     4.0  964982703         0          0\n",
       "1       1        3     4.0  964981247         0          1\n",
       "2       1        6     4.0  964982224         0          2\n",
       "3       1       47     5.0  964983815         0          3\n",
       "4       1       50     5.0  964982931         0          4\n",
       "5       1       70     3.0  964982400         0          5\n",
       "6       1      101     5.0  964980868         0          6\n",
       "7       1      110     4.0  964982176         0          7\n",
       "8       1      151     5.0  964984041         0          8\n",
       "9       1      157     5.0  964984100         0          9"
      ]
     },
     "execution_count": 7,
     "metadata": {},
     "output_type": "execute_result"
    }
   ],
   "source": [
    "ratings['user_idx'] = ratings['userId'].map(userid_to_idx_mapper).apply(np.int32)\n",
    "ratings['movie_idx'] = ratings['movieId'].map(movieid_to_idx_mapper).apply(np.int32)\n",
    "ratings.head(10)"
   ]
  },
  {
   "cell_type": "markdown",
   "id": "fce399ea-b6c1-4133-a676-62746eae7ee4",
   "metadata": {},
   "source": [
    "## References\n",
    "\n",
    "http://cs229.stanford.edu/proj2017/final-posters/5147271.pdf"
   ]
  },
  {
   "cell_type": "markdown",
   "id": "a535473f-b6ba-4dc6-b477-8f25be80b4b1",
   "metadata": {},
   "source": [
    "## Intro \n",
    "\n",
    "ALS algorithm works by alternating between rows and columns to factorized the matrix."
   ]
  },
  {
   "cell_type": "markdown",
   "id": "4e739a19-d4da-4140-b49c-241adacc88e0",
   "metadata": {},
   "source": [
    "> Stochastic Gradient Descent \n",
    "\n",
    "- Flexibility - Already using it for a lot of different problems and algorithms\n",
    "- Parallel - scaling matrix factorization\n",
    "- Slower - iterative\n",
    "- Hard to handle unobserved interaction (sparsity)\n",
    "\n",
    "> Alternating Least Square \n",
    "\n",
    "- only works for least square problems only\n",
    "- Parallel\n",
    "- Faster\n",
    "- Easy to handle sparsity"
   ]
  },
  {
   "cell_type": "markdown",
   "id": "f401b443-58e6-43c7-8d1d-468c0ba3de5d",
   "metadata": {},
   "source": [
    "## Approach\n",
    "\n",
    "\n",
    "```sql\n",
    "    \n",
    "              movies (n)                         k                  n\n",
    "            +---------------------+        +------+   +----------------------+\n",
    "            |                     |        |      | x |      movie           | k\n",
    "            |                     |        | user |   |      factor          |      V\n",
    "            |                     |        |factor|   +----------------------+\n",
    "  users(m)  |                     |        |      |\n",
    "            |     RATINGS         |    ~   |      |\n",
    "            |                     |    ~   |      | m\n",
    "            |                     |        |      |\n",
    "            |                     |        |      |\n",
    "            |                     |        |      |\n",
    "            +---------------------+        +------+\n",
    "                                                U\n",
    "```\n",
    "\n",
    "Iterative Algorithm \n",
    "\n",
    "* fix V, compute U\n",
    "* fix U, compute V"
   ]
  },
  {
   "cell_type": "markdown",
   "id": "bf90b294-30ec-4616-9988-6ace6062a44b",
   "metadata": {},
   "source": [
    "## Compare with SVD\n",
    "\n",
    "\n",
    "Matrix Factorization Method.\n",
    "\n",
    "More here https://machinelearningexploration.readthedocs.io/en/latest/MathExploration/SingularValueDecomposition.html\n",
    "\n",
    "```sql\n",
    "\n",
    "                                        +----------------------+\n",
    "                                      K |______________________| \n",
    "                                        |                      |  \n",
    "  items                            K    +----------------------+        \n",
    "+---------------------+        +-------+   \n",
    "|                     |        |   |   |   \n",
    "|u                    |        |   |   |   \n",
    "|s                    |        |   |   |\n",
    "|e                    |    ~   |   |   |\n",
    "|r                    |    ~   |   |   | \n",
    "|s                    |        |   |   |\n",
    "|                     |        |   |   |\n",
    "|                     |        |   |   |\n",
    "+---------------------+        +-------+\n",
    "           X                      V       x       VT             \n",
    "\n",
    "\n",
    "                 row factors (items embeddings)\n",
    "               /\n",
    "Factorization \n",
    "               \\ \n",
    "                column factors (user embeddings)\n",
    "                \n",
    "                \n",
    "```"
   ]
  },
  {
   "cell_type": "markdown",
   "id": "d8d17157-9314-4485-81a2-60c34be67cac",
   "metadata": {},
   "source": [
    "\n",
    "In `SVD` the missing observations has to be fill as zeros.\n",
    "\n",
    "$| A - U V^T |^2$\n",
    "\n",
    "```sql\n",
    "        item1  item2  item3   item4\n",
    "       +------+------+------+------+\n",
    " user1 |  1   |  0   |  0   |  1   |\n",
    "       +------+------+------+------+\n",
    " user2 |  0   |  1   |  0   |  0   |\n",
    "       +------+------+------+------+\n",
    " user3 |  0   |  1   |  0   |  0   |\n",
    "       +------+------+------+------+\n",
    " user4 |  0   |  0   |  1   |  0   |\n",
    "       +------+------+------+------+\n",
    "   \n",
    "```\n",
    "This leads to a large assumption for business and it impacts results heavily due to large percentage of assumptions.\n",
    "\n",
    "\n",
    "\n",
    "In `ALS` we use rows and columns alternatively as features, hence `no need to fill missing values`.\n",
    "\n",
    "$\\sum_{i,j \\in obs} (A_{ij} - U_i V_j^T)^2$\n",
    "\n",
    "```sql\n",
    "        item1  item2  item3   item4\n",
    "       +------+------+------+------+\n",
    " user1 |  1   |      |      |  1   |\n",
    "       +------+------+------+------+\n",
    " user2 |      |  1   |      |      |\n",
    "       +------+------+------+------+\n",
    " user3 |      |  1   |      |      |\n",
    "       +------+------+------+------+\n",
    " user4 |      |      |  1   |      |\n",
    "       +------+------+------+------+\n",
    "   \n",
    "```\n"
   ]
  },
  {
   "cell_type": "code",
   "execution_count": 9,
   "id": "f6b4ba7a-06dd-4359-b0a6-fae1a6b32ab1",
   "metadata": {},
   "outputs": [],
   "source": [
    "user_movie_matrix = ratings.pivot_table(values=['rating'] ,index=['user_idx'], columns=['movie_idx'])"
   ]
  },
  {
   "cell_type": "code",
   "execution_count": 10,
   "id": "01230e29-f77e-4ef5-a906-137a3396a12e",
   "metadata": {},
   "outputs": [
    {
     "data": {
      "text/html": [
       "<div>\n",
       "<style scoped>\n",
       "    .dataframe tbody tr th:only-of-type {\n",
       "        vertical-align: middle;\n",
       "    }\n",
       "\n",
       "    .dataframe tbody tr th {\n",
       "        vertical-align: top;\n",
       "    }\n",
       "\n",
       "    .dataframe thead tr th {\n",
       "        text-align: left;\n",
       "    }\n",
       "\n",
       "    .dataframe thead tr:last-of-type th {\n",
       "        text-align: right;\n",
       "    }\n",
       "</style>\n",
       "<table border=\"1\" class=\"dataframe\">\n",
       "  <thead>\n",
       "    <tr>\n",
       "      <th></th>\n",
       "      <th colspan=\"21\" halign=\"left\">rating</th>\n",
       "    </tr>\n",
       "    <tr>\n",
       "      <th>movie_idx</th>\n",
       "      <th>0</th>\n",
       "      <th>1</th>\n",
       "      <th>2</th>\n",
       "      <th>3</th>\n",
       "      <th>4</th>\n",
       "      <th>5</th>\n",
       "      <th>6</th>\n",
       "      <th>7</th>\n",
       "      <th>8</th>\n",
       "      <th>9</th>\n",
       "      <th>...</th>\n",
       "      <th>9714</th>\n",
       "      <th>9715</th>\n",
       "      <th>9716</th>\n",
       "      <th>9717</th>\n",
       "      <th>9718</th>\n",
       "      <th>9719</th>\n",
       "      <th>9720</th>\n",
       "      <th>9721</th>\n",
       "      <th>9722</th>\n",
       "      <th>9723</th>\n",
       "    </tr>\n",
       "    <tr>\n",
       "      <th>user_idx</th>\n",
       "      <th></th>\n",
       "      <th></th>\n",
       "      <th></th>\n",
       "      <th></th>\n",
       "      <th></th>\n",
       "      <th></th>\n",
       "      <th></th>\n",
       "      <th></th>\n",
       "      <th></th>\n",
       "      <th></th>\n",
       "      <th></th>\n",
       "      <th></th>\n",
       "      <th></th>\n",
       "      <th></th>\n",
       "      <th></th>\n",
       "      <th></th>\n",
       "      <th></th>\n",
       "      <th></th>\n",
       "      <th></th>\n",
       "      <th></th>\n",
       "      <th></th>\n",
       "    </tr>\n",
       "  </thead>\n",
       "  <tbody>\n",
       "    <tr>\n",
       "      <th>0</th>\n",
       "      <td>4.0</td>\n",
       "      <td>4.0</td>\n",
       "      <td>4.0</td>\n",
       "      <td>5.0</td>\n",
       "      <td>5.0</td>\n",
       "      <td>3.0</td>\n",
       "      <td>5.0</td>\n",
       "      <td>4.0</td>\n",
       "      <td>5.0</td>\n",
       "      <td>5.0</td>\n",
       "      <td>...</td>\n",
       "      <td>NaN</td>\n",
       "      <td>NaN</td>\n",
       "      <td>NaN</td>\n",
       "      <td>NaN</td>\n",
       "      <td>NaN</td>\n",
       "      <td>NaN</td>\n",
       "      <td>NaN</td>\n",
       "      <td>NaN</td>\n",
       "      <td>NaN</td>\n",
       "      <td>NaN</td>\n",
       "    </tr>\n",
       "    <tr>\n",
       "      <th>1</th>\n",
       "      <td>NaN</td>\n",
       "      <td>NaN</td>\n",
       "      <td>NaN</td>\n",
       "      <td>NaN</td>\n",
       "      <td>NaN</td>\n",
       "      <td>NaN</td>\n",
       "      <td>NaN</td>\n",
       "      <td>NaN</td>\n",
       "      <td>NaN</td>\n",
       "      <td>NaN</td>\n",
       "      <td>...</td>\n",
       "      <td>NaN</td>\n",
       "      <td>NaN</td>\n",
       "      <td>NaN</td>\n",
       "      <td>NaN</td>\n",
       "      <td>NaN</td>\n",
       "      <td>NaN</td>\n",
       "      <td>NaN</td>\n",
       "      <td>NaN</td>\n",
       "      <td>NaN</td>\n",
       "      <td>NaN</td>\n",
       "    </tr>\n",
       "    <tr>\n",
       "      <th>2</th>\n",
       "      <td>NaN</td>\n",
       "      <td>NaN</td>\n",
       "      <td>NaN</td>\n",
       "      <td>NaN</td>\n",
       "      <td>NaN</td>\n",
       "      <td>NaN</td>\n",
       "      <td>NaN</td>\n",
       "      <td>NaN</td>\n",
       "      <td>NaN</td>\n",
       "      <td>NaN</td>\n",
       "      <td>...</td>\n",
       "      <td>NaN</td>\n",
       "      <td>NaN</td>\n",
       "      <td>NaN</td>\n",
       "      <td>NaN</td>\n",
       "      <td>NaN</td>\n",
       "      <td>NaN</td>\n",
       "      <td>NaN</td>\n",
       "      <td>NaN</td>\n",
       "      <td>NaN</td>\n",
       "      <td>NaN</td>\n",
       "    </tr>\n",
       "    <tr>\n",
       "      <th>3</th>\n",
       "      <td>NaN</td>\n",
       "      <td>NaN</td>\n",
       "      <td>NaN</td>\n",
       "      <td>2.0</td>\n",
       "      <td>NaN</td>\n",
       "      <td>NaN</td>\n",
       "      <td>NaN</td>\n",
       "      <td>NaN</td>\n",
       "      <td>NaN</td>\n",
       "      <td>NaN</td>\n",
       "      <td>...</td>\n",
       "      <td>NaN</td>\n",
       "      <td>NaN</td>\n",
       "      <td>NaN</td>\n",
       "      <td>NaN</td>\n",
       "      <td>NaN</td>\n",
       "      <td>NaN</td>\n",
       "      <td>NaN</td>\n",
       "      <td>NaN</td>\n",
       "      <td>NaN</td>\n",
       "      <td>NaN</td>\n",
       "    </tr>\n",
       "    <tr>\n",
       "      <th>4</th>\n",
       "      <td>4.0</td>\n",
       "      <td>NaN</td>\n",
       "      <td>NaN</td>\n",
       "      <td>NaN</td>\n",
       "      <td>4.0</td>\n",
       "      <td>NaN</td>\n",
       "      <td>NaN</td>\n",
       "      <td>4.0</td>\n",
       "      <td>NaN</td>\n",
       "      <td>NaN</td>\n",
       "      <td>...</td>\n",
       "      <td>NaN</td>\n",
       "      <td>NaN</td>\n",
       "      <td>NaN</td>\n",
       "      <td>NaN</td>\n",
       "      <td>NaN</td>\n",
       "      <td>NaN</td>\n",
       "      <td>NaN</td>\n",
       "      <td>NaN</td>\n",
       "      <td>NaN</td>\n",
       "      <td>NaN</td>\n",
       "    </tr>\n",
       "  </tbody>\n",
       "</table>\n",
       "<p>5 rows × 9724 columns</p>\n",
       "</div>"
      ],
      "text/plain": [
       "          rating                                               ...            \\\n",
       "movie_idx   0    1    2    3    4    5    6    7    8    9     ... 9714 9715   \n",
       "user_idx                                                       ...             \n",
       "0            4.0  4.0  4.0  5.0  5.0  3.0  5.0  4.0  5.0  5.0  ...  NaN  NaN   \n",
       "1            NaN  NaN  NaN  NaN  NaN  NaN  NaN  NaN  NaN  NaN  ...  NaN  NaN   \n",
       "2            NaN  NaN  NaN  NaN  NaN  NaN  NaN  NaN  NaN  NaN  ...  NaN  NaN   \n",
       "3            NaN  NaN  NaN  2.0  NaN  NaN  NaN  NaN  NaN  NaN  ...  NaN  NaN   \n",
       "4            4.0  NaN  NaN  NaN  4.0  NaN  NaN  4.0  NaN  NaN  ...  NaN  NaN   \n",
       "\n",
       "                                                   \n",
       "movie_idx 9716 9717 9718 9719 9720 9721 9722 9723  \n",
       "user_idx                                           \n",
       "0          NaN  NaN  NaN  NaN  NaN  NaN  NaN  NaN  \n",
       "1          NaN  NaN  NaN  NaN  NaN  NaN  NaN  NaN  \n",
       "2          NaN  NaN  NaN  NaN  NaN  NaN  NaN  NaN  \n",
       "3          NaN  NaN  NaN  NaN  NaN  NaN  NaN  NaN  \n",
       "4          NaN  NaN  NaN  NaN  NaN  NaN  NaN  NaN  \n",
       "\n",
       "[5 rows x 9724 columns]"
      ]
     },
     "execution_count": 10,
     "metadata": {},
     "output_type": "execute_result"
    }
   ],
   "source": [
    "user_movie_matrix.head(5)"
   ]
  },
  {
   "cell_type": "markdown",
   "id": "6b825643-2e3e-438b-a90e-c3afdd8ded2a",
   "metadata": {},
   "source": [
    "## Algorithm\n",
    "\n",
    "1. Initiate row factor U, column factor V\n",
    "2. Repeat until convergence\n",
    "    1. for i = 1 to n do   (iterating over rows)\n",
    "        \n",
    "        $u_i = (\\sum_{r_{i,j} \\in r_{i*}} {v_j v_j^T + \\lambda I_k })^{-1} \\sum_{r_{i,j} \\in r_{i*}}{r_{ij} v_j}$\n",
    "        \n",
    "       end for  [solving for row factors when column factors are features]\n",
    "    \n",
    "    2. for i = 1 to m do   (iterative over columns)\n",
    "       \n",
    "        $v_i = (\\sum_{r_{i,j} \\in r_{*j}} {u_i u_i^T + \\lambda I_k })^{-1} \\sum_{r_{i,j} \\in r_{*j}}{r_{ij} u_i}$\n",
    "       \n",
    "       end for [solving for column factors when row factors are features]\n",
    "       \n",
    "       \n",
    "Where\\\n",
    "    U = row factor matrix\\\n",
    "    V = column factor matrix\\\n",
    "    r = ratings\n",
    "    \n",
    "    \n",
    "    \n",
    "Similarity between als vs ols with l2 regularization \n",
    "\n",
    "$\\theta = (X^T X + \\lambda I)^{-1} X^T Y$\n",
    "\n",
    "$v_i = (\\sum_{r_{{i,j} \\in r_{*j}}} {u_i u_i^T + \\lambda I_k })^{-1} \\sum_{r_{i,j} \\in r_{*j}}{r_{ij} u_i}$"
   ]
  },
  {
   "cell_type": "markdown",
   "id": "115b7f09-c958-4bde-8dc5-863a3dc0c1c4",
   "metadata": {},
   "source": [
    "## Loss function\n",
    "\n",
    "\\begin{align*}\n",
    "    R \\approx U \\times V^T\\\\\n",
    "    \\\\\n",
    "    \\min_{U,V} \\sum_{(i,j) \\in \\text{obs}} ( R_{i,j} - U_i V_j)^2 \n",
    "\\end{align*}"
   ]
  },
  {
   "cell_type": "code",
   "execution_count": 106,
   "id": "c377f9a5-0cae-4a31-9d33-ef2859768d4e",
   "metadata": {},
   "outputs": [],
   "source": [
    "def loss(R, U, V, M):\n",
    "    # use by mask M to ignore NaNs\n",
    "    return np.sqrt(np.square(R - (U @ V), where=M).sum())"
   ]
  },
  {
   "cell_type": "markdown",
   "id": "633ada44-ecd4-4cfc-bd76-74caeebe8585",
   "metadata": {},
   "source": [
    "## Variables\n",
    "\n",
    "factor dimensions, iteration, regularization"
   ]
  },
  {
   "cell_type": "code",
   "execution_count": 116,
   "id": "0a659c88-6122-4a7e-9d0b-928292b3e204",
   "metadata": {},
   "outputs": [],
   "source": [
    "k = 2\n",
    "n_iter = 20\n",
    "lambda_ = 0.1"
   ]
  },
  {
   "cell_type": "markdown",
   "id": "680540d2-510e-473d-8f68-da30f53c15df",
   "metadata": {},
   "source": [
    "Rating Matrix"
   ]
  },
  {
   "cell_type": "code",
   "execution_count": 117,
   "id": "b8a206fc-d2f5-4fea-a534-693d6d6a14bf",
   "metadata": {},
   "outputs": [],
   "source": [
    "R = user_movie_matrix.values\n",
    "n_users, n_movies = R.shape"
   ]
  },
  {
   "cell_type": "markdown",
   "id": "e8593783-655f-40d2-965b-d7eba574c478",
   "metadata": {},
   "source": [
    "Mask"
   ]
  },
  {
   "cell_type": "code",
   "execution_count": 118,
   "id": "5aa1b088-564d-4eb5-a186-094645f6e5a1",
   "metadata": {},
   "outputs": [],
   "source": [
    "M = ~np.isnan(R)"
   ]
  },
  {
   "cell_type": "code",
   "execution_count": 119,
   "id": "36f13232-3167-4e26-9937-b99dc5730f48",
   "metadata": {},
   "outputs": [
    {
     "data": {
      "text/plain": [
       "array([[ True,  True,  True, ..., False, False, False],\n",
       "       [False, False, False, ..., False, False, False],\n",
       "       [False, False, False, ..., False, False, False],\n",
       "       ...,\n",
       "       [ True,  True, False, ..., False, False, False],\n",
       "       [ True, False, False, ..., False, False, False],\n",
       "       [ True, False,  True, ...,  True,  True,  True]])"
      ]
     },
     "execution_count": 119,
     "metadata": {},
     "output_type": "execute_result"
    }
   ],
   "source": [
    "M"
   ]
  },
  {
   "cell_type": "markdown",
   "id": "b55479bc-7881-4fff-943c-d24c069ad5e4",
   "metadata": {},
   "source": [
    "Factors initialization"
   ]
  },
  {
   "cell_type": "code",
   "execution_count": 120,
   "id": "64f9761c-be40-4197-b0c5-68b7e50e373e",
   "metadata": {},
   "outputs": [],
   "source": [
    "u = np.random.rand(n_users, k)\n",
    "v = np.random.rand(k, n_movies)"
   ]
  },
  {
   "cell_type": "code",
   "execution_count": 121,
   "id": "8bc77c04-2e72-4e5d-b2e8-9a70f36e0810",
   "metadata": {},
   "outputs": [
    {
     "data": {
      "text/plain": [
       "((610, 2), (2, 9724))"
      ]
     },
     "execution_count": 121,
     "metadata": {},
     "output_type": "execute_result"
    }
   ],
   "source": [
    "u.shape, v.shape"
   ]
  },
  {
   "cell_type": "markdown",
   "id": "d201413d-9782-4237-86ff-fda25103aee2",
   "metadata": {},
   "source": [
    "only getting observations (getting non null values from ratings)"
   ]
  },
  {
   "cell_type": "code",
   "execution_count": 122,
   "id": "a92fd2e5-1419-4875-b315-ee1ebb0847b7",
   "metadata": {},
   "outputs": [
    {
     "data": {
      "text/plain": [
       "array([472.33260954, 539.1386121 ])"
      ]
     },
     "execution_count": 122,
     "metadata": {},
     "output_type": "execute_result"
    }
   ],
   "source": [
    "obs = ~np.isnan(R[0])\n",
    "v[:,obs] @ R[0,obs] "
   ]
  },
  {
   "cell_type": "code",
   "execution_count": 123,
   "id": "0f4d55cb-d60d-4491-8977-18707a4673d1",
   "metadata": {},
   "outputs": [
    {
     "data": {
      "text/plain": [
       "(array([437.42447065, 400.43930905]), array([437.42447065, 400.43930905]))"
      ]
     },
     "execution_count": 123,
     "metadata": {},
     "output_type": "execute_result"
    }
   ],
   "source": [
    "obs = ~np.isnan(R[:,0])\n",
    "u[obs,:].T @ R[obs, 0], u.T[:,obs] @ R[obs, 0] "
   ]
  },
  {
   "cell_type": "markdown",
   "id": "60b5705d-bcf9-4e24-81aa-ebfe7121710e",
   "metadata": {},
   "source": [
    "## algorithm implemented"
   ]
  },
  {
   "cell_type": "code",
   "execution_count": 125,
   "id": "2aada2d9-9579-4aad-af0a-208cfb7fcfd3",
   "metadata": {},
   "outputs": [],
   "source": [
    "l_loss = []\n",
    "\n",
    "for i_iter in range(n_iter):\n",
    "    for i in range(n_users):\n",
    "        # obs = ~np.isnan(R[i])        \n",
    "        obs = M[i] # same thing as above but already calculated and stored in a matrix\n",
    "        u[i] = np.array((v[:,obs] @ R[i,obs]).T @ np.linalg.inv((v @ v.T) + (lambda_ * np.eye(k))))\n",
    "    for j in range(n_movies):\n",
    "        # obs = ~np.isnan(R[:,j])\n",
    "        obs = M[:, j]\n",
    "        v[:,j] = np.array((u.T[:, obs] @ R[obs,j]) @ np.linalg.inv((u.T @ u) + (lambda_ * np.eye(k))))\n",
    "    l_loss.append(loss(R, u, v, M))"
   ]
  },
  {
   "cell_type": "code",
   "execution_count": 129,
   "id": "5e72a534-b9fd-443e-8dd8-07c5dfd34d72",
   "metadata": {},
   "outputs": [
    {
     "data": {
      "image/png": "[encoded data removed]",
      "text/plain": [
       "<Figure size 432x288 with 1 Axes>"
      ]
     },
     "metadata": {
      "needs_background": "light"
     },
     "output_type": "display_data"
    }
   ],
   "source": [
    "plt.plot(l_loss, 'o-');"
   ]
  },
  {
   "cell_type": "markdown",
   "id": "413a5a25-b077-44f7-b0ae-9c79d33143da",
   "metadata": {},
   "source": [
    "## in a function"
   ]
  },
  {
   "cell_type": "code",
   "execution_count": 146,
   "id": "e8e62083-8979-457a-a72b-ca7eba64ace8",
   "metadata": {},
   "outputs": [],
   "source": [
    "def als(R, lambda_, dim_factors, n_iter):\n",
    "    n_u, n_v = R.shape\n",
    "    U = np.random.rand(n_u, dim_factors)\n",
    "    V = np.random.rand(dim_factors, n_v)\n",
    "    M = ~np.isnan(R)\n",
    "    \n",
    "    iter_losses = []\n",
    "    for i_iter in range(n_iter):\n",
    "        for i in range(n_u):       \n",
    "            obs = M[i] \n",
    "            U[i] = np.array((V[:,obs] @ R[i,obs]).T @ np.linalg.inv((V @ V.T) + (lambda_ * np.eye(dim_factors))))\n",
    "        for j in range(n_v):\n",
    "            obs = M[:, j]\n",
    "            V[:,j] = np.array((U.T[:, obs] @ R[obs,j]) @ np.linalg.inv((U.T @ U) + (lambda_ * np.eye(dim_factors))))\n",
    "        iter_losses.append(loss(R, U, V, M))\n",
    "    return U,V,iter_losses"
   ]
  },
  {
   "cell_type": "markdown",
   "id": "c91b1c45-7e8b-4ba3-8f96-96976ba667bb",
   "metadata": {},
   "source": [
    "## comparing incremental factor dimensions"
   ]
  },
  {
   "cell_type": "code",
   "execution_count": 152,
   "id": "572639f3-b194-48e4-9000-110a5727b916",
   "metadata": {},
   "outputs": [
    {
     "data": {
      "image/png": "[encoded data removed]",
      "text/plain": [
       "<Figure size 432x288 with 1 Axes>"
      ]
     },
     "metadata": {
      "needs_background": "light"
     },
     "output_type": "display_data"
    }
   ],
   "source": [
    "for dim in [2, 10, 20, 30]:\n",
    "    _, _, losses = als(R, 0.1, dim, 10)\n",
    "    plt.plot(losses, 'o-', label=f\"dim : {dim}\")\n",
    "\n",
    "plt.legend(loc='best')\n",
    "plt.show()"
   ]
  },
  {
   "cell_type": "markdown",
   "id": "717fa9c6-a4af-4b2b-b92e-924a046c5376",
   "metadata": {},
   "source": [
    "## comparing incremental regularization rate"
   ]
  },
  {
   "cell_type": "code",
   "execution_count": 153,
   "id": "e70aa2f2-f3dc-45ea-aa62-fa92c90628eb",
   "metadata": {},
   "outputs": [
    {
     "data": {
      "image/png": "[encoded data removed]",
      "text/plain": [
       "<Figure size 432x288 with 1 Axes>"
      ]
     },
     "metadata": {
      "needs_background": "light"
     },
     "output_type": "display_data"
    }
   ],
   "source": [
    "for reg in [0.01, 0.09, 0.1, 0.5, 0.9]:\n",
    "    _, _, losses = als(R, reg, 5, 10)\n",
    "    plt.plot(losses, 'o-', label=f\"$\\lambda$ : {reg}\")\n",
    "\n",
    "plt.legend(loc='best')\n",
    "plt.show()"
   ]
  },
  {
   "cell_type": "markdown",
   "id": "1193e54b-94d2-4463-8119-c699025adc44",
   "metadata": {},
   "source": [
    "# Weighted Alternating Least Squares (WALS)\n",
    "\n",
    "\\begin{align}\n",
    "    \\sum_{i,j \\in obs} (A_{ij} - U_i V_j)^2 + w_k \\times \\sum_{i,j \\notin obs} (0 - U_i V_j)^2\n",
    "\\end{align}"
   ]
  }
 ],
 "metadata": {
  "kernelspec": {
   "display_name": "Python 3",
   "language": "python",
   "name": "python3"
  },
  "language_info": {
   "codemirror_mode": {
    "name": "ipython",
    "version": 3
   },
   "file_extension": ".py",
   "mimetype": "text/x-python",
   "name": "python",
   "nbconvert_exporter": "python",
   "pygments_lexer": "ipython3",
   "version": "3.8.3"
  }
 },
 "nbformat": 4,
 "nbformat_minor": 5
}
