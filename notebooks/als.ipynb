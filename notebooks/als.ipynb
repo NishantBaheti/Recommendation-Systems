{
 "cells": [
  {
   "cell_type": "markdown",
   "id": "947529b2-970f-4b0d-9abb-dcc5727960a2",
   "metadata": {},
   "source": [
    "# Alternating Least Squares"
   ]
  },
  {
   "cell_type": "markdown",
   "id": "f40af07a-c926-4d6a-930c-152b23acb313",
   "metadata": {},
   "source": [
    "## References\n",
    "\n",
    "http://cs229.stanford.edu/proj2017/final-posters/5147271.pdf"
   ]
  },
  {
   "cell_type": "markdown",
   "id": "a535473f-b6ba-4dc6-b477-8f25be80b4b1",
   "metadata": {},
   "source": [
    "## Intro \n",
    "\n",
    "ALS algorithm works by alternating between rows and columns to factorized the matrix."
   ]
  },
  {
   "cell_type": "markdown",
   "id": "4e739a19-d4da-4140-b49c-241adacc88e0",
   "metadata": {},
   "source": [
    "Stochastic Gradient Descent \n",
    "\n",
    "- Flexibility\n",
    "- Parallel\n",
    "- Slower\n",
    "- Hard to handle unobserved interaction (sparsity)\n",
    "\n",
    "Alternating Least Square \n",
    "\n",
    "- basically ordinary least square method only\n",
    "- Parallel\n",
    "- Faster\n",
    "- Easy to handle sparsity"
   ]
  },
  {
   "cell_type": "markdown",
   "id": "28b8ae61-86eb-44c1-84f6-d1c521b63cf0",
   "metadata": {},
   "source": [
    "\n",
    "## Algorithm\n",
    "\n",
    "1. Initiate row factor U, column factor V\n",
    "2. Repeat until convergence\n",
    "    1. for i=1 to n do   (iterating over rows)\n",
    "        \n",
    "        $u_i = (\\sum_{r_{{i,j} \\in r_{i*}}} {v_j v_j^T + \\lambda I_k })^{-1} \\sum_{r_{i,j} \\in r_{i*}}{r_{ij} v_j}$\n",
    "        \n",
    "       end for  [solving for row factors when column factors are features]\n",
    "    \n",
    "    2. for i=1 to m do   (iterative over columns)\n",
    "       \n",
    "        $v_i = (\\sum_{r_{{i,j} \\in r_{*j}}} {u_i u_i^T + \\lambda I_k })^{-1} \\sum_{r_{i,j} \\in r_{*j}}{r_{ij} u_i}$\n",
    "       \n",
    "       end for [solving for column factors when row factors are features]\n",
    "       \n",
    "       \n",
    "Where\\\n",
    "    U = row factor matrix\\\n",
    "    V = column factor matrix\\\n",
    "    r = ratings\n",
    "    \n",
    "    \n",
    "    \n",
    "Similarity between als vs ols with l2 regularization \n",
    "\n",
    "$\\theta = (X^T X + \\lambda I)^{-1} X^T Y$\n",
    "\n",
    "$v_i = (\\sum_{r_{{i,j} \\in r_{*j}}} {u_i u_i^T + \\lambda I_k })^{-1} \\sum_{r_{i,j} \\in r_{*j}}{r_{ij} u_i}$"
   ]
  },
  {
   "cell_type": "markdown",
   "id": "f401b443-58e6-43c7-8d1d-468c0ba3de5d",
   "metadata": {},
   "source": [
    "## Approach\n",
    "\n",
    "\n",
    "```sql\n",
    "    \n",
    "              movies (n)                         k                  n\n",
    "            +---------------------+        +------+   +----------------------+\n",
    "            |                     |        |      | x |      movie           | k\n",
    "            |                     |        | user |   |      factor          |      V\n",
    "            |                     |        |factor|   +----------------------+\n",
    "  users(m)  |                     |        |      |\n",
    "            |     RATINGS         |    ~   |      |\n",
    "            |                     |    ~   |      | m\n",
    "            |                     |        |      |\n",
    "            |                     |        |      |\n",
    "            |                     |        |      |\n",
    "            +---------------------+        +------+\n",
    "                                                U\n",
    "```\n",
    "\n",
    "Iterative Algorithm \n",
    "\n",
    "* fix V, compute U\n",
    "* fix U, compute V"
   ]
  },
  {
   "cell_type": "markdown",
   "id": "bf90b294-30ec-4616-9988-6ace6062a44b",
   "metadata": {},
   "source": [
    "## Compare with SVD\n",
    "\n",
    "\n",
    "Matrix Factorization Method.\n",
    "\n",
    "More here https://machinelearningexploration.readthedocs.io/en/latest/MathExploration/SingularValueDecomposition.html\n",
    "\n",
    "```sql\n",
    "\n",
    "                                        +----------------------+\n",
    "                                      K |______________________| \n",
    "                                        |                      |  \n",
    "  items                            K    +----------------------+        \n",
    "+---------------------+        +-------+   \n",
    "|                     |        |   |   |   \n",
    "|u                    |        |   |   |   \n",
    "|s                    |        |   |   |\n",
    "|e                    |    ~   |   |   |\n",
    "|r                    |    ~   |   |   | \n",
    "|s                    |        |   |   |\n",
    "|                     |        |   |   |\n",
    "|                     |        |   |   |\n",
    "+---------------------+        +-------+\n",
    "           X                      V       x       VT             \n",
    "\n",
    "\n",
    "                 row factors (items embeddings)\n",
    "               /\n",
    "Factorization \n",
    "               \\ \n",
    "                column factors (user embeddings)\n",
    "                \n",
    "                \n",
    "```"
   ]
  },
  {
   "cell_type": "markdown",
   "id": "d8d17157-9314-4485-81a2-60c34be67cac",
   "metadata": {},
   "source": [
    "\n",
    "In SVD the missing observations has to be fill as zeros.\n",
    "\n",
    "$| A - U V^T |^2$\n",
    "\n",
    "```sql\n",
    "        item1  item2  item3   item4\n",
    "       +------+------+------+------+\n",
    " user1 |  1   |  0   |  0   |  1   |\n",
    "       +------+------+------+------+\n",
    " user2 |  0   |  1   |  0   |  0   |\n",
    "       +------+------+------+------+\n",
    " user3 |  0   |  1   |  0   |  0   |\n",
    "       +------+------+------+------+\n",
    " user4 |  0   |  0   |  1   |  0   |\n",
    "       +------+------+------+------+\n",
    "   \n",
    "```\n",
    "\n",
    "\n",
    "In ALS we use rows and columns alternatively as features, hence `no need to fill missing values`.\n",
    "\n",
    "$\\sum_{i,j \\in obs} (A_{ij} - U_i V_j^T)^2$\n",
    "\n",
    "```sql\n",
    "        item1  item2  item3   item4\n",
    "       +------+------+------+------+\n",
    " user1 |  1   |      |      |  1   |\n",
    "       +------+------+------+------+\n",
    " user2 |      |  1   |      |      |\n",
    "       +------+------+------+------+\n",
    " user3 |      |  1   |      |      |\n",
    "       +------+------+------+------+\n",
    " user4 |      |      |  1   |      |\n",
    "       +------+------+------+------+\n",
    "   \n",
    "```\n"
   ]
  },
  {
   "cell_type": "markdown",
   "id": "1193e54b-94d2-4463-8119-c699025adc44",
   "metadata": {},
   "source": [
    "# Weighted Alternating Least Squares (WALS)\n",
    "\n",
    "\\begin{align}\n",
    "    \\sum_{i,j \\in obs} (A_{ij} - U_i V_j)^2 - w_k \\times \\sum_{i,j \\notin obs} (0 - U_i V_j)^2\n",
    "\\end{align}"
   ]
  }
 ],
 "metadata": {
  "kernelspec": {
   "display_name": "Python 3",
   "language": "python",
   "name": "python3"
  },
  "language_info": {
   "codemirror_mode": {
    "name": "ipython",
    "version": 3
   },
   "file_extension": ".py",
   "mimetype": "text/x-python",
   "name": "python",
   "nbconvert_exporter": "python",
   "pygments_lexer": "ipython3",
   "version": "3.8.3"
  }
 },
 "nbformat": 4,
 "nbformat_minor": 5
}
