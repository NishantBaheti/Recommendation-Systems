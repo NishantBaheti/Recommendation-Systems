{
 "cells": [
  {
   "cell_type": "markdown",
   "id": "9f19a026-3015-47a5-a3a2-8d4551aff986",
   "metadata": {},
   "source": [
    "# Basic Content Based Recommendation"
   ]
  },
  {
   "cell_type": "code",
   "execution_count": 4,
   "id": "60e55105-69d0-445c-b757-93cc70248887",
   "metadata": {},
   "outputs": [],
   "source": [
    "import numpy as np\n",
    "import tensorflow as tf"
   ]
  },
  {
   "cell_type": "code",
   "execution_count": 5,
   "id": "6eefe677-9e78-4eac-b95c-78974eab8487",
   "metadata": {},
   "outputs": [],
   "source": [
    "users = [ 'user1', 'user2', 'user3', 'user4' ]\n",
    "movies = [ 'movie1', 'movie2', 'movie3', 'movie4', 'movie5', 'movie6']\n",
    "features = [ 'action', 'drama', 'scifi', 'comedy', 'animated']\n",
    "\n",
    "n_users = len(users)\n",
    "n_movies = len(movies)\n",
    "n_features = len(features)\n"
   ]
  },
  {
   "cell_type": "markdown",
   "id": "b58551b5-6116-4bf7-a86a-74debbf58d87",
   "metadata": {},
   "source": [
    "## References\n",
    "\n",
    "- https://machinelearningexploration.readthedocs.io/en/latest/MathExploration/matrix_multiplication.html#Matrix-Multiplication\n"
   ]
  },
  {
   "cell_type": "markdown",
   "id": "e5bc9c8c-f9ad-4c8b-ba30-d89c86217ce4",
   "metadata": {},
   "source": [
    "## Strategy\n",
    "\n",
    "1. create a user-item matrix.\n",
    "2. create a item-feature matrix.\n",
    "3. multiplying user-item and item-feature, to create user-feature matrix.\n",
    "4. normalize user-feature matrix.\n",
    "5. create a user and non-interacted item matrix, to only recommend non-interacted items to users.\n",
    "6. elementwise multiplication of user-item and user-non_interacted_item matrix to get only ratings of non interacted items.\n",
    "7. get indexes of top k rated non interacted items, k number of recommendations."
   ]
  },
  {
   "cell_type": "markdown",
   "id": "975c2f88-52f7-4e08-bcc3-ac8782800c8c",
   "metadata": {},
   "source": [
    "## user-item matrix\n",
    "\n",
    "sparse matrix for user and items rating matrix. \n",
    "\n",
    "```sql\n",
    "            items \n",
    "         +-------------+\n",
    "         |             |\n",
    "  users  |             |\n",
    "         |             |\n",
    "         |             |\n",
    "         |             |\n",
    "         +-------------+\n",
    "```\n",
    "\n",
    "shape $(n_{users}, n_{items})$\n"
   ]
  },
  {
   "cell_type": "code",
   "execution_count": 6,
   "id": "4fb1968f-3840-4120-80a0-4dd6873ec334",
   "metadata": {},
   "outputs": [
    {
     "data": {
      "text/plain": [
       "(['user1', 'user2', 'user3', 'user4'],\n",
       " ['movie1', 'movie2', 'movie3', 'movie4', 'movie5', 'movie6'])"
      ]
     },
     "execution_count": 6,
     "metadata": {},
     "output_type": "execute_result"
    }
   ],
   "source": [
    "users, movies"
   ]
  },
  {
   "cell_type": "code",
   "execution_count": 7,
   "id": "2bbbc19a-367e-45ef-9fcf-b1c6ce09e609",
   "metadata": {},
   "outputs": [],
   "source": [
    "user_movies = tf.constant([\n",
    "    [5, 6, 8, 0, 0, 1],\n",
    "    [0, 0, 10, 10, 0, 5],\n",
    "    [0, 9, 5, 5, 0, 0],\n",
    "    [1, 5, 0, 0, 0, 5]\n",
    "], dtype=tf.float32)"
   ]
  },
  {
   "cell_type": "markdown",
   "id": "9cfe55ce-dd69-42d8-b61c-2cb14629ab31",
   "metadata": {},
   "source": [
    "## item-feature martix\n",
    "\n",
    "k-hot encoded matrix of item and feature matrix.\n",
    "\n",
    "\n",
    "```sql\n",
    "            features \n",
    "         +-------------+\n",
    "         |             |\n",
    "  items  |             |\n",
    "         |             |\n",
    "         |             |\n",
    "         |             |\n",
    "         +-------------+\n",
    "```\n",
    "\n",
    "shape : $(n_{items}, n_{features})$\n"
   ]
  },
  {
   "cell_type": "code",
   "execution_count": 8,
   "id": "7667b0c7-0415-4352-80c5-33ef38c44e97",
   "metadata": {},
   "outputs": [
    {
     "data": {
      "text/plain": [
       "(['movie1', 'movie2', 'movie3', 'movie4', 'movie5', 'movie6'],\n",
       " ['action', 'drama', 'scifi', 'comedy', 'animated'])"
      ]
     },
     "execution_count": 8,
     "metadata": {},
     "output_type": "execute_result"
    }
   ],
   "source": [
    "movies, features"
   ]
  },
  {
   "cell_type": "code",
   "execution_count": 9,
   "id": "da927f44-e088-4073-acfb-665c64a60a96",
   "metadata": {},
   "outputs": [],
   "source": [
    "movie_features = tf.constant([\n",
    "    [1, 0, 1, 0 ,0],\n",
    "    [0, 1, 0, 1, 0],\n",
    "    [0, 1, 0, 1, 1],\n",
    "    [1, 1, 0, 0, 1],\n",
    "    [0, 0, 1, 0, 1],\n",
    "    [0, 0, 1, 1, 1]\n",
    "], dtype=tf.float32)"
   ]
  },
  {
   "cell_type": "markdown",
   "id": "131a9b9c-ca84-4123-a308-79f3e28d7c75",
   "metadata": {},
   "source": [
    "## user-feature matrix\n",
    "\n",
    "$(n_{users}, n_{items}) \\times (n_{items}, n_{features})$\n",
    "\n",
    "\n",
    "\n",
    "\n",
    "```sql\n",
    "            items                      features                    features\n",
    "         +-------------+            +-------------+             +-------------+\n",
    "         |             |            |             |             |             |\n",
    "  users  |             |      items |             |      users  |             |\n",
    "         |             |    X       |             |  =          |             |\n",
    "         |             |            |             |             |             |\n",
    "         |             |            |             |             |             |\n",
    "         +-------------+            +-------------+             +-------------+\n",
    "```\n",
    "\n",
    "\n",
    "\n",
    "\n",
    "\n",
    "```sql\n",
    "                                         ___\n",
    "                                          |\n",
    "         item_1   item_2   item_3         |            feature_1   feature_2   feature_3 \n",
    "       +---------------------------+      |           +-----------------------------------------+\n",
    "user_1 |                                  |   item_1  |\n",
    "       |      represents user             |           |     individual features for different  \n",
    "user_2 |      and items relation          |   item_2  |           items \n",
    "       |                                  |           | \n",
    "                                          |   item_3  |\n",
    "                                          |           |\n",
    "                                          | \n",
    "                                          |\n",
    "```\n"
   ]
  },
  {
   "cell_type": "code",
   "execution_count": 10,
   "id": "45a4913e-405b-434a-b7bc-ba926b9aa4b7",
   "metadata": {},
   "outputs": [
    {
     "data": {
      "text/plain": [
       "<tf.Tensor: shape=(4, 5), dtype=float32, numpy=\n",
       "array([[ 5., 14.,  6., 15.,  9.],\n",
       "       [10., 20.,  5., 15., 25.],\n",
       "       [ 5., 19.,  0., 14., 10.],\n",
       "       [ 1.,  5.,  6., 10.,  5.]], dtype=float32)>"
      ]
     },
     "execution_count": 10,
     "metadata": {},
     "output_type": "execute_result"
    }
   ],
   "source": [
    "user_feaures = user_movies @ movie_features\n",
    "user_feaures"
   ]
  },
  {
   "cell_type": "markdown",
   "id": "7a39bba8-7189-424a-9de8-b5b7dc65c520",
   "metadata": {},
   "source": [
    "normalizing the matrix"
   ]
  },
  {
   "cell_type": "code",
   "execution_count": 11,
   "id": "0f1d69fa-f48c-40d1-a887-357ffbbd93f2",
   "metadata": {},
   "outputs": [
    {
     "data": {
      "text/plain": [
       "<tf.Tensor: shape=(4, 5), dtype=float32, numpy=\n",
       "array([[0.23809524, 0.2413793 , 0.3529412 , 0.2777778 , 0.18367347],\n",
       "       [0.47619048, 0.3448276 , 0.29411766, 0.2777778 , 0.5102041 ],\n",
       "       [0.23809524, 0.3275862 , 0.        , 0.25925925, 0.20408164],\n",
       "       [0.04761905, 0.0862069 , 0.3529412 , 0.18518518, 0.10204082]],\n",
       "      dtype=float32)>"
      ]
     },
     "execution_count": 11,
     "metadata": {},
     "output_type": "execute_result"
    }
   ],
   "source": [
    "user_features_norm = user_feaures / tf.reduce_sum(user_feaures, axis=0, keepdims=True)\n",
    "user_features_norm"
   ]
  },
  {
   "cell_type": "markdown",
   "id": "030cc755-cd30-4e4c-b555-836a5407543f",
   "metadata": {},
   "source": [
    "\n",
    "## user feature preference\n",
    "\n",
    "get top k values from the user-feature matrix.\n",
    "\n",
    "tensorflow's function to get top k values."
   ]
  },
  {
   "cell_type": "code",
   "execution_count": 12,
   "id": "b1761455-4712-4350-9907-48562287ed07",
   "metadata": {},
   "outputs": [
    {
     "data": {
      "text/plain": [
       "TopKV2(values=<tf.Tensor: shape=(4, 1), dtype=float32, numpy=\n",
       "array([[0.3529412],\n",
       "       [0.5102041],\n",
       "       [0.3275862],\n",
       "       [0.3529412]], dtype=float32)>, indices=<tf.Tensor: shape=(4, 1), dtype=int32, numpy=\n",
       "array([[2],\n",
       "       [4],\n",
       "       [1],\n",
       "       [2]], dtype=int32)>)"
      ]
     },
     "execution_count": 12,
     "metadata": {},
     "output_type": "execute_result"
    }
   ],
   "source": [
    "tf.nn.top_k(user_features_norm, k=1)"
   ]
  },
  {
   "cell_type": "code",
   "execution_count": 13,
   "id": "96224320-3d2f-4c42-b9c0-dcf09254a6e6",
   "metadata": {},
   "outputs": [],
   "source": [
    "top_values, top_feature_idx = tf.nn.top_k(user_features_norm, k=n_features)"
   ]
  },
  {
   "cell_type": "code",
   "execution_count": 14,
   "id": "89797d2a-6d81-495c-ae66-32a9d9e10c1f",
   "metadata": {},
   "outputs": [
    {
     "data": {
      "text/plain": [
       "<tf.Tensor: shape=(4, 5), dtype=float32, numpy=\n",
       "array([[0.3529412 , 0.2777778 , 0.2413793 , 0.23809524, 0.18367347],\n",
       "       [0.5102041 , 0.47619048, 0.3448276 , 0.29411766, 0.2777778 ],\n",
       "       [0.3275862 , 0.25925925, 0.23809524, 0.20408164, 0.        ],\n",
       "       [0.3529412 , 0.18518518, 0.10204082, 0.0862069 , 0.04761905]],\n",
       "      dtype=float32)>"
      ]
     },
     "execution_count": 14,
     "metadata": {},
     "output_type": "execute_result"
    }
   ],
   "source": [
    "top_values"
   ]
  },
  {
   "cell_type": "code",
   "execution_count": 15,
   "id": "a4468a5c-0d2d-4a95-aad0-d57b6958e469",
   "metadata": {},
   "outputs": [
    {
     "data": {
      "text/plain": [
       "<tf.Tensor: shape=(4, 5), dtype=int32, numpy=\n",
       "array([[2, 3, 1, 0, 4],\n",
       "       [4, 0, 1, 2, 3],\n",
       "       [1, 3, 0, 4, 2],\n",
       "       [2, 3, 4, 1, 0]], dtype=int32)>"
      ]
     },
     "execution_count": 15,
     "metadata": {},
     "output_type": "execute_result"
    }
   ],
   "source": [
    "top_feature_idx"
   ]
  },
  {
   "cell_type": "code",
   "execution_count": 16,
   "id": "e0baef99-7342-4a5c-9c78-e9f5a2eb085f",
   "metadata": {},
   "outputs": [
    {
     "name": "stdout",
     "output_type": "stream",
     "text": [
      "user1  :  ['scifi', 'comedy', 'drama', 'action', 'animated']\n",
      "user2  :  ['animated', 'action', 'drama', 'scifi', 'comedy']\n",
      "user3  :  ['drama', 'comedy', 'action', 'animated', 'scifi']\n",
      "user4  :  ['scifi', 'comedy', 'animated', 'drama', 'action']\n"
     ]
    }
   ],
   "source": [
    "for i in range(n_users):\n",
    "    print(users[i],\" : \", [features[index] for index in top_feature_idx[i]])"
   ]
  },
  {
   "cell_type": "markdown",
   "id": "1dcb75c5-8540-4faf-83e3-4f333073992b",
   "metadata": {},
   "source": [
    "## Get movie recommendations"
   ]
  },
  {
   "cell_type": "code",
   "execution_count": 17,
   "id": "555a2402-97fd-4f6a-9455-7837a4fea7cb",
   "metadata": {},
   "outputs": [
    {
     "data": {
      "text/plain": [
       "<tf.Tensor: shape=(4, 6), dtype=float32, numpy=\n",
       "array([[0.59103644, 0.5191571 , 0.70283055, 0.66314805, 0.53661466,\n",
       "        0.81439245],\n",
       "       [0.77030814, 0.6226054 , 1.1328094 , 1.3312222 , 0.80432177,\n",
       "        1.0820996 ],\n",
       "       [0.23809524, 0.58684546, 0.7909271 , 0.7697631 , 0.20408164,\n",
       "        0.46334088],\n",
       "       [0.40056023, 0.27139208, 0.3734329 , 0.23586676, 0.454982  ,\n",
       "        0.6401672 ]], dtype=float32)>"
      ]
     },
     "execution_count": 17,
     "metadata": {},
     "output_type": "execute_result"
    }
   ],
   "source": [
    "user_ratings = user_features_norm @ tf.transpose(movie_features)\n",
    "\n",
    "user_ratings"
   ]
  },
  {
   "cell_type": "code",
   "execution_count": 18,
   "id": "799ee475-b03c-4890-88b7-b5a4f46b0a5b",
   "metadata": {},
   "outputs": [
    {
     "data": {
      "text/plain": [
       "<tf.Tensor: shape=(4, 6), dtype=float32, numpy=\n",
       "array([[ 5.,  6.,  8.,  0.,  0.,  1.],\n",
       "       [ 0.,  0., 10., 10.,  0.,  5.],\n",
       "       [ 0.,  9.,  5.,  5.,  0.,  0.],\n",
       "       [ 1.,  5.,  0.,  0.,  0.,  5.]], dtype=float32)>"
      ]
     },
     "execution_count": 18,
     "metadata": {},
     "output_type": "execute_result"
    }
   ],
   "source": [
    "user_movies"
   ]
  },
  {
   "cell_type": "code",
   "execution_count": 19,
   "id": "75c8b936-8506-474d-8168-cc24142ac02b",
   "metadata": {},
   "outputs": [
    {
     "data": {
      "text/plain": [
       "<tf.Tensor: shape=(4, 6), dtype=bool, numpy=\n",
       "array([[False, False, False,  True,  True, False],\n",
       "       [ True,  True, False, False,  True, False],\n",
       "       [ True, False, False, False,  True,  True],\n",
       "       [False, False,  True,  True,  True, False]])>"
      ]
     },
     "execution_count": 19,
     "metadata": {},
     "output_type": "execute_result"
    }
   ],
   "source": [
    "unseen_movies = tf.equal(user_movies, tf.zeros_like(user_movies))\n",
    "unseen_movies"
   ]
  },
  {
   "cell_type": "code",
   "execution_count": 20,
   "id": "c2e8e908-60e7-44dc-95b4-ffe042d50097",
   "metadata": {},
   "outputs": [
    {
     "data": {
      "text/plain": [
       "<tf.Tensor: shape=(4, 6), dtype=float32, numpy=\n",
       "array([[0., 0., 0., 0., 0., 0.],\n",
       "       [0., 0., 0., 0., 0., 0.],\n",
       "       [0., 0., 0., 0., 0., 0.],\n",
       "       [0., 0., 0., 0., 0., 0.]], dtype=float32)>"
      ]
     },
     "execution_count": 20,
     "metadata": {},
     "output_type": "execute_result"
    }
   ],
   "source": [
    "ignore_matrix = tf.zeros_like(user_movies)\n",
    "ignore_matrix"
   ]
  },
  {
   "cell_type": "code",
   "execution_count": 21,
   "id": "c833436e-28b8-4247-b9b0-09850060a5d0",
   "metadata": {},
   "outputs": [
    {
     "data": {
      "text/plain": [
       "<tf.Tensor: shape=(4, 6), dtype=float32, numpy=\n",
       "array([[0.        , 0.        , 0.        , 0.66314805, 0.53661466,\n",
       "        0.        ],\n",
       "       [0.77030814, 0.6226054 , 0.        , 0.        , 0.80432177,\n",
       "        0.        ],\n",
       "       [0.23809524, 0.        , 0.        , 0.        , 0.20408164,\n",
       "        0.46334088],\n",
       "       [0.        , 0.        , 0.3734329 , 0.23586676, 0.454982  ,\n",
       "        0.        ]], dtype=float32)>"
      ]
     },
     "execution_count": 21,
     "metadata": {},
     "output_type": "execute_result"
    }
   ],
   "source": [
    "new_ratings = tf.where(condition=unseen_movies, x=user_ratings, y=ignore_matrix)\n",
    "\n",
    "new_ratings"
   ]
  },
  {
   "cell_type": "markdown",
   "id": "c3bbef38-952e-4636-bcd5-54ebef911304",
   "metadata": {},
   "source": [
    "### 2 movie recommendations"
   ]
  },
  {
   "cell_type": "code",
   "execution_count": 22,
   "id": "c4f5310e-9b75-4c43-ab5c-7a6b2fe71f66",
   "metadata": {},
   "outputs": [],
   "source": [
    "top_movies_idx = tf.nn.top_k(user_ratings, k = 2)[1]"
   ]
  },
  {
   "cell_type": "code",
   "execution_count": 23,
   "id": "6413de96-ca7a-45dd-ac3a-79faad11f6c6",
   "metadata": {},
   "outputs": [
    {
     "name": "stdout",
     "output_type": "stream",
     "text": [
      "user1 ['movie6', 'movie3']\n",
      "user2 ['movie4', 'movie3']\n",
      "user3 ['movie3', 'movie4']\n",
      "user4 ['movie6', 'movie5']\n"
     ]
    }
   ],
   "source": [
    "for i in range(n_users):\n",
    "    print(users[i], [movies[index] for index in top_movies_idx[i]])"
   ]
  },
  {
   "cell_type": "markdown",
   "id": "aa91b414-74e5-4ba8-8f80-36b1136be554",
   "metadata": {},
   "source": [
    "# Building Reco system with movie data"
   ]
  },
  {
   "cell_type": "code",
   "execution_count": 24,
   "id": "6c33273f-235d-48b1-9e60-9b3c839a0b7e",
   "metadata": {},
   "outputs": [],
   "source": [
    "import pandas as pd"
   ]
  },
  {
   "cell_type": "code",
   "execution_count": 25,
   "id": "aa5bfd85-f43f-46bd-b1ef-ceb49abc146d",
   "metadata": {},
   "outputs": [
    {
     "data": {
      "text/html": [
       "<div>\n",
       "<style scoped>\n",
       "    .dataframe tbody tr th:only-of-type {\n",
       "        vertical-align: middle;\n",
       "    }\n",
       "\n",
       "    .dataframe tbody tr th {\n",
       "        vertical-align: top;\n",
       "    }\n",
       "\n",
       "    .dataframe thead th {\n",
       "        text-align: right;\n",
       "    }\n",
       "</style>\n",
       "<table border=\"1\" class=\"dataframe\">\n",
       "  <thead>\n",
       "    <tr style=\"text-align: right;\">\n",
       "      <th></th>\n",
       "      <th>userId</th>\n",
       "      <th>movieId</th>\n",
       "      <th>rating</th>\n",
       "      <th>timestamp</th>\n",
       "    </tr>\n",
       "  </thead>\n",
       "  <tbody>\n",
       "    <tr>\n",
       "      <th>0</th>\n",
       "      <td>1</td>\n",
       "      <td>1</td>\n",
       "      <td>4.0</td>\n",
       "      <td>964982703</td>\n",
       "    </tr>\n",
       "    <tr>\n",
       "      <th>1</th>\n",
       "      <td>1</td>\n",
       "      <td>3</td>\n",
       "      <td>4.0</td>\n",
       "      <td>964981247</td>\n",
       "    </tr>\n",
       "    <tr>\n",
       "      <th>2</th>\n",
       "      <td>1</td>\n",
       "      <td>6</td>\n",
       "      <td>4.0</td>\n",
       "      <td>964982224</td>\n",
       "    </tr>\n",
       "    <tr>\n",
       "      <th>3</th>\n",
       "      <td>1</td>\n",
       "      <td>47</td>\n",
       "      <td>5.0</td>\n",
       "      <td>964983815</td>\n",
       "    </tr>\n",
       "    <tr>\n",
       "      <th>4</th>\n",
       "      <td>1</td>\n",
       "      <td>50</td>\n",
       "      <td>5.0</td>\n",
       "      <td>964982931</td>\n",
       "    </tr>\n",
       "  </tbody>\n",
       "</table>\n",
       "</div>"
      ],
      "text/plain": [
       "   userId  movieId  rating  timestamp\n",
       "0       1        1     4.0  964982703\n",
       "1       1        3     4.0  964981247\n",
       "2       1        6     4.0  964982224\n",
       "3       1       47     5.0  964983815\n",
       "4       1       50     5.0  964982931"
      ]
     },
     "execution_count": 25,
     "metadata": {},
     "output_type": "execute_result"
    }
   ],
   "source": [
    "ratings = pd.read_csv('/opt/datasetsRepo/RecommendationData/ratings.csv')\n",
    "ratings.head()"
   ]
  },
  {
   "cell_type": "code",
   "execution_count": 26,
   "id": "7ad3e1eb-45ac-446a-8ca7-ef04a7fbdba7",
   "metadata": {},
   "outputs": [
    {
     "data": {
      "text/plain": [
       "(100836, 4)"
      ]
     },
     "execution_count": 26,
     "metadata": {},
     "output_type": "execute_result"
    }
   ],
   "source": [
    "ratings.shape"
   ]
  },
  {
   "cell_type": "code",
   "execution_count": 27,
   "id": "95898556-2798-4473-8df2-3edf7b81bab1",
   "metadata": {},
   "outputs": [
    {
     "data": {
      "text/html": [
       "<div>\n",
       "<style scoped>\n",
       "    .dataframe tbody tr th:only-of-type {\n",
       "        vertical-align: middle;\n",
       "    }\n",
       "\n",
       "    .dataframe tbody tr th {\n",
       "        vertical-align: top;\n",
       "    }\n",
       "\n",
       "    .dataframe thead th {\n",
       "        text-align: right;\n",
       "    }\n",
       "</style>\n",
       "<table border=\"1\" class=\"dataframe\">\n",
       "  <thead>\n",
       "    <tr style=\"text-align: right;\">\n",
       "      <th></th>\n",
       "      <th>movieId</th>\n",
       "      <th>title</th>\n",
       "      <th>genres</th>\n",
       "    </tr>\n",
       "  </thead>\n",
       "  <tbody>\n",
       "    <tr>\n",
       "      <th>0</th>\n",
       "      <td>1</td>\n",
       "      <td>Toy Story (1995)</td>\n",
       "      <td>Adventure|Animation|Children|Comedy|Fantasy</td>\n",
       "    </tr>\n",
       "    <tr>\n",
       "      <th>1</th>\n",
       "      <td>2</td>\n",
       "      <td>Jumanji (1995)</td>\n",
       "      <td>Adventure|Children|Fantasy</td>\n",
       "    </tr>\n",
       "    <tr>\n",
       "      <th>2</th>\n",
       "      <td>3</td>\n",
       "      <td>Grumpier Old Men (1995)</td>\n",
       "      <td>Comedy|Romance</td>\n",
       "    </tr>\n",
       "    <tr>\n",
       "      <th>3</th>\n",
       "      <td>4</td>\n",
       "      <td>Waiting to Exhale (1995)</td>\n",
       "      <td>Comedy|Drama|Romance</td>\n",
       "    </tr>\n",
       "    <tr>\n",
       "      <th>4</th>\n",
       "      <td>5</td>\n",
       "      <td>Father of the Bride Part II (1995)</td>\n",
       "      <td>Comedy</td>\n",
       "    </tr>\n",
       "  </tbody>\n",
       "</table>\n",
       "</div>"
      ],
      "text/plain": [
       "   movieId                               title  \\\n",
       "0        1                    Toy Story (1995)   \n",
       "1        2                      Jumanji (1995)   \n",
       "2        3             Grumpier Old Men (1995)   \n",
       "3        4            Waiting to Exhale (1995)   \n",
       "4        5  Father of the Bride Part II (1995)   \n",
       "\n",
       "                                        genres  \n",
       "0  Adventure|Animation|Children|Comedy|Fantasy  \n",
       "1                   Adventure|Children|Fantasy  \n",
       "2                               Comedy|Romance  \n",
       "3                         Comedy|Drama|Romance  \n",
       "4                                       Comedy  "
      ]
     },
     "execution_count": 27,
     "metadata": {},
     "output_type": "execute_result"
    }
   ],
   "source": [
    "movies = pd.read_csv(\"/opt/datasetsRepo/RecommendationData/movies.csv\")\n",
    "movies.head()"
   ]
  },
  {
   "cell_type": "code",
   "execution_count": 28,
   "id": "02d79d47-2520-4c76-ba96-f2c894bf13a0",
   "metadata": {},
   "outputs": [
    {
     "data": {
      "text/plain": [
       "(9742, 3)"
      ]
     },
     "execution_count": 28,
     "metadata": {},
     "output_type": "execute_result"
    }
   ],
   "source": [
    "movies.shape"
   ]
  },
  {
   "cell_type": "markdown",
   "id": "e75c8597-7b62-407c-8fb3-de0228d59156",
   "metadata": {},
   "source": [
    "## mappers"
   ]
  },
  {
   "cell_type": "markdown",
   "id": "2f3ca18d-e6e2-4303-aa4c-8af779ca68d2",
   "metadata": {},
   "source": [
    "though here movie id's and user id's are integer. In real scenarios they aren't.\n",
    "For a quick fix we can create mappers to convert id's to indexes. these mappers generally helps creating sparse matrix."
   ]
  },
  {
   "cell_type": "code",
   "execution_count": 29,
   "id": "e91f79b4-6f72-4b11-a3a9-3bee1f7efc6e",
   "metadata": {},
   "outputs": [],
   "source": [
    "idx_to_movieid_mapper = dict(enumerate(movies.movieId.unique()))"
   ]
  },
  {
   "cell_type": "code",
   "execution_count": 30,
   "id": "7f736afa-b02c-42d3-a0d5-3983db703f28",
   "metadata": {},
   "outputs": [],
   "source": [
    "movieid_to_idx_mapper = dict(zip(idx_to_movieid_mapper.values(), idx_to_movieid_mapper.keys()))"
   ]
  },
  {
   "cell_type": "code",
   "execution_count": 31,
   "id": "30545f25-4ade-4e99-bc36-527ba0f6e2ee",
   "metadata": {},
   "outputs": [],
   "source": [
    "idx_to_userid_mapper = dict(enumerate(ratings.userId.unique()))"
   ]
  },
  {
   "cell_type": "code",
   "execution_count": 32,
   "id": "2fada4a2-0f4e-4fd7-a133-93c0972cadb5",
   "metadata": {},
   "outputs": [],
   "source": [
    "userid_to_idx_mapper = dict(zip(idx_to_userid_mapper.values(), idx_to_userid_mapper.keys()))"
   ]
  },
  {
   "cell_type": "markdown",
   "id": "1ecff676-9867-4f28-8b9e-6a97c1abac8e",
   "metadata": {},
   "source": [
    "### apply mappers"
   ]
  },
  {
   "cell_type": "code",
   "execution_count": 33,
   "id": "0783a276-7f8b-469e-8577-a5ff15c9156f",
   "metadata": {},
   "outputs": [
    {
     "data": {
      "text/html": [
       "<div>\n",
       "<style scoped>\n",
       "    .dataframe tbody tr th:only-of-type {\n",
       "        vertical-align: middle;\n",
       "    }\n",
       "\n",
       "    .dataframe tbody tr th {\n",
       "        vertical-align: top;\n",
       "    }\n",
       "\n",
       "    .dataframe thead th {\n",
       "        text-align: right;\n",
       "    }\n",
       "</style>\n",
       "<table border=\"1\" class=\"dataframe\">\n",
       "  <thead>\n",
       "    <tr style=\"text-align: right;\">\n",
       "      <th></th>\n",
       "      <th>movieId</th>\n",
       "      <th>title</th>\n",
       "      <th>genres</th>\n",
       "      <th>movie_idx</th>\n",
       "    </tr>\n",
       "  </thead>\n",
       "  <tbody>\n",
       "    <tr>\n",
       "      <th>0</th>\n",
       "      <td>1</td>\n",
       "      <td>Toy Story (1995)</td>\n",
       "      <td>Adventure|Animation|Children|Comedy|Fantasy</td>\n",
       "      <td>0</td>\n",
       "    </tr>\n",
       "    <tr>\n",
       "      <th>1</th>\n",
       "      <td>2</td>\n",
       "      <td>Jumanji (1995)</td>\n",
       "      <td>Adventure|Children|Fantasy</td>\n",
       "      <td>1</td>\n",
       "    </tr>\n",
       "    <tr>\n",
       "      <th>2</th>\n",
       "      <td>3</td>\n",
       "      <td>Grumpier Old Men (1995)</td>\n",
       "      <td>Comedy|Romance</td>\n",
       "      <td>2</td>\n",
       "    </tr>\n",
       "    <tr>\n",
       "      <th>3</th>\n",
       "      <td>4</td>\n",
       "      <td>Waiting to Exhale (1995)</td>\n",
       "      <td>Comedy|Drama|Romance</td>\n",
       "      <td>3</td>\n",
       "    </tr>\n",
       "    <tr>\n",
       "      <th>4</th>\n",
       "      <td>5</td>\n",
       "      <td>Father of the Bride Part II (1995)</td>\n",
       "      <td>Comedy</td>\n",
       "      <td>4</td>\n",
       "    </tr>\n",
       "  </tbody>\n",
       "</table>\n",
       "</div>"
      ],
      "text/plain": [
       "   movieId                               title  \\\n",
       "0        1                    Toy Story (1995)   \n",
       "1        2                      Jumanji (1995)   \n",
       "2        3             Grumpier Old Men (1995)   \n",
       "3        4            Waiting to Exhale (1995)   \n",
       "4        5  Father of the Bride Part II (1995)   \n",
       "\n",
       "                                        genres  movie_idx  \n",
       "0  Adventure|Animation|Children|Comedy|Fantasy          0  \n",
       "1                   Adventure|Children|Fantasy          1  \n",
       "2                               Comedy|Romance          2  \n",
       "3                         Comedy|Drama|Romance          3  \n",
       "4                                       Comedy          4  "
      ]
     },
     "execution_count": 33,
     "metadata": {},
     "output_type": "execute_result"
    }
   ],
   "source": [
    "movies['movie_idx'] = movies['movieId'].map(movieid_to_idx_mapper)\n",
    "\n",
    "movies.head()"
   ]
  },
  {
   "cell_type": "code",
   "execution_count": 34,
   "id": "f7dd4e94-86a2-41a7-9ab6-0cf348958d0a",
   "metadata": {},
   "outputs": [
    {
     "data": {
      "text/html": [
       "<div>\n",
       "<style scoped>\n",
       "    .dataframe tbody tr th:only-of-type {\n",
       "        vertical-align: middle;\n",
       "    }\n",
       "\n",
       "    .dataframe tbody tr th {\n",
       "        vertical-align: top;\n",
       "    }\n",
       "\n",
       "    .dataframe thead th {\n",
       "        text-align: right;\n",
       "    }\n",
       "</style>\n",
       "<table border=\"1\" class=\"dataframe\">\n",
       "  <thead>\n",
       "    <tr style=\"text-align: right;\">\n",
       "      <th></th>\n",
       "      <th>userId</th>\n",
       "      <th>movieId</th>\n",
       "      <th>rating</th>\n",
       "      <th>timestamp</th>\n",
       "      <th>user_idx</th>\n",
       "      <th>movie_idx</th>\n",
       "    </tr>\n",
       "  </thead>\n",
       "  <tbody>\n",
       "    <tr>\n",
       "      <th>0</th>\n",
       "      <td>1</td>\n",
       "      <td>1</td>\n",
       "      <td>4.0</td>\n",
       "      <td>964982703</td>\n",
       "      <td>0</td>\n",
       "      <td>0</td>\n",
       "    </tr>\n",
       "    <tr>\n",
       "      <th>1</th>\n",
       "      <td>1</td>\n",
       "      <td>3</td>\n",
       "      <td>4.0</td>\n",
       "      <td>964981247</td>\n",
       "      <td>0</td>\n",
       "      <td>2</td>\n",
       "    </tr>\n",
       "    <tr>\n",
       "      <th>2</th>\n",
       "      <td>1</td>\n",
       "      <td>6</td>\n",
       "      <td>4.0</td>\n",
       "      <td>964982224</td>\n",
       "      <td>0</td>\n",
       "      <td>5</td>\n",
       "    </tr>\n",
       "    <tr>\n",
       "      <th>3</th>\n",
       "      <td>1</td>\n",
       "      <td>47</td>\n",
       "      <td>5.0</td>\n",
       "      <td>964983815</td>\n",
       "      <td>0</td>\n",
       "      <td>43</td>\n",
       "    </tr>\n",
       "    <tr>\n",
       "      <th>4</th>\n",
       "      <td>1</td>\n",
       "      <td>50</td>\n",
       "      <td>5.0</td>\n",
       "      <td>964982931</td>\n",
       "      <td>0</td>\n",
       "      <td>46</td>\n",
       "    </tr>\n",
       "  </tbody>\n",
       "</table>\n",
       "</div>"
      ],
      "text/plain": [
       "   userId  movieId  rating  timestamp  user_idx  movie_idx\n",
       "0       1        1     4.0  964982703         0          0\n",
       "1       1        3     4.0  964981247         0          2\n",
       "2       1        6     4.0  964982224         0          5\n",
       "3       1       47     5.0  964983815         0         43\n",
       "4       1       50     5.0  964982931         0         46"
      ]
     },
     "execution_count": 34,
     "metadata": {},
     "output_type": "execute_result"
    }
   ],
   "source": [
    "ratings['user_idx'] = ratings['userId'].map(userid_to_idx_mapper)\n",
    "ratings['movie_idx'] = ratings['movieId'].map(movieid_to_idx_mapper)\n",
    "ratings.head()"
   ]
  },
  {
   "cell_type": "markdown",
   "id": "b31df639-0c38-4e6e-a5ee-c35ba0765205",
   "metadata": {},
   "source": [
    "## user movie sparse rating matrix"
   ]
  },
  {
   "cell_type": "code",
   "execution_count": 35,
   "id": "a488cb18-af26-4f88-9879-f96064850b75",
   "metadata": {},
   "outputs": [],
   "source": [
    "user_movies_sparse_matrix = tf.sparse.SparseTensor(\n",
    "    indices=ratings[['user_idx', 'movie_idx']],\n",
    "    values=ratings['rating'],\n",
    "    dense_shape=[len(idx_to_userid_mapper), len(idx_to_movieid_mapper)]\n",
    ")"
   ]
  },
  {
   "cell_type": "code",
   "execution_count": 36,
   "id": "2cc759f4-f9b3-4bbb-b45d-3011e4820d20",
   "metadata": {},
   "outputs": [],
   "source": [
    "n_users, n_movies = user_movies_sparse_matrix.get_shape()"
   ]
  },
  {
   "cell_type": "markdown",
   "id": "fec9279e-b1ab-4373-92de-e00d3b240c76",
   "metadata": {},
   "source": [
    "## movies features(genere) k hot matrix"
   ]
  },
  {
   "cell_type": "code",
   "execution_count": 37,
   "id": "545db339-30b0-4429-b9f4-f67819114eee",
   "metadata": {},
   "outputs": [
    {
     "data": {
      "text/html": [
       "<div>\n",
       "<style scoped>\n",
       "    .dataframe tbody tr th:only-of-type {\n",
       "        vertical-align: middle;\n",
       "    }\n",
       "\n",
       "    .dataframe tbody tr th {\n",
       "        vertical-align: top;\n",
       "    }\n",
       "\n",
       "    .dataframe thead th {\n",
       "        text-align: right;\n",
       "    }\n",
       "</style>\n",
       "<table border=\"1\" class=\"dataframe\">\n",
       "  <thead>\n",
       "    <tr style=\"text-align: right;\">\n",
       "      <th></th>\n",
       "      <th>movieId</th>\n",
       "      <th>title</th>\n",
       "      <th>genres</th>\n",
       "      <th>movie_idx</th>\n",
       "      <th>genres_arr</th>\n",
       "    </tr>\n",
       "  </thead>\n",
       "  <tbody>\n",
       "    <tr>\n",
       "      <th>0</th>\n",
       "      <td>1</td>\n",
       "      <td>Toy Story (1995)</td>\n",
       "      <td>Adventure|Animation|Children|Comedy|Fantasy</td>\n",
       "      <td>0</td>\n",
       "      <td>[Adventure, Animation, Children, Comedy, Fantasy]</td>\n",
       "    </tr>\n",
       "    <tr>\n",
       "      <th>1</th>\n",
       "      <td>2</td>\n",
       "      <td>Jumanji (1995)</td>\n",
       "      <td>Adventure|Children|Fantasy</td>\n",
       "      <td>1</td>\n",
       "      <td>[Adventure, Children, Fantasy]</td>\n",
       "    </tr>\n",
       "    <tr>\n",
       "      <th>2</th>\n",
       "      <td>3</td>\n",
       "      <td>Grumpier Old Men (1995)</td>\n",
       "      <td>Comedy|Romance</td>\n",
       "      <td>2</td>\n",
       "      <td>[Comedy, Romance]</td>\n",
       "    </tr>\n",
       "    <tr>\n",
       "      <th>3</th>\n",
       "      <td>4</td>\n",
       "      <td>Waiting to Exhale (1995)</td>\n",
       "      <td>Comedy|Drama|Romance</td>\n",
       "      <td>3</td>\n",
       "      <td>[Comedy, Drama, Romance]</td>\n",
       "    </tr>\n",
       "    <tr>\n",
       "      <th>4</th>\n",
       "      <td>5</td>\n",
       "      <td>Father of the Bride Part II (1995)</td>\n",
       "      <td>Comedy</td>\n",
       "      <td>4</td>\n",
       "      <td>[Comedy]</td>\n",
       "    </tr>\n",
       "  </tbody>\n",
       "</table>\n",
       "</div>"
      ],
      "text/plain": [
       "   movieId                               title  \\\n",
       "0        1                    Toy Story (1995)   \n",
       "1        2                      Jumanji (1995)   \n",
       "2        3             Grumpier Old Men (1995)   \n",
       "3        4            Waiting to Exhale (1995)   \n",
       "4        5  Father of the Bride Part II (1995)   \n",
       "\n",
       "                                        genres  movie_idx  \\\n",
       "0  Adventure|Animation|Children|Comedy|Fantasy          0   \n",
       "1                   Adventure|Children|Fantasy          1   \n",
       "2                               Comedy|Romance          2   \n",
       "3                         Comedy|Drama|Romance          3   \n",
       "4                                       Comedy          4   \n",
       "\n",
       "                                          genres_arr  \n",
       "0  [Adventure, Animation, Children, Comedy, Fantasy]  \n",
       "1                     [Adventure, Children, Fantasy]  \n",
       "2                                  [Comedy, Romance]  \n",
       "3                           [Comedy, Drama, Romance]  \n",
       "4                                           [Comedy]  "
      ]
     },
     "execution_count": 37,
     "metadata": {},
     "output_type": "execute_result"
    }
   ],
   "source": [
    "movies['genres_arr'] = movies['genres'].apply(lambda x: x.split(\"|\"))\n",
    "movies.head()"
   ]
  },
  {
   "cell_type": "code",
   "execution_count": 38,
   "id": "eed0e377-7215-46d2-97d6-635a3ec4b98e",
   "metadata": {},
   "outputs": [
    {
     "data": {
      "text/html": [
       "<div>\n",
       "<style scoped>\n",
       "    .dataframe tbody tr th:only-of-type {\n",
       "        vertical-align: middle;\n",
       "    }\n",
       "\n",
       "    .dataframe tbody tr th {\n",
       "        vertical-align: top;\n",
       "    }\n",
       "\n",
       "    .dataframe thead th {\n",
       "        text-align: right;\n",
       "    }\n",
       "</style>\n",
       "<table border=\"1\" class=\"dataframe\">\n",
       "  <thead>\n",
       "    <tr style=\"text-align: right;\">\n",
       "      <th></th>\n",
       "      <th>movie_idx</th>\n",
       "      <th>genres_arr</th>\n",
       "    </tr>\n",
       "  </thead>\n",
       "  <tbody>\n",
       "    <tr>\n",
       "      <th>0</th>\n",
       "      <td>0</td>\n",
       "      <td>Adventure</td>\n",
       "    </tr>\n",
       "    <tr>\n",
       "      <th>0</th>\n",
       "      <td>0</td>\n",
       "      <td>Animation</td>\n",
       "    </tr>\n",
       "    <tr>\n",
       "      <th>0</th>\n",
       "      <td>0</td>\n",
       "      <td>Children</td>\n",
       "    </tr>\n",
       "    <tr>\n",
       "      <th>0</th>\n",
       "      <td>0</td>\n",
       "      <td>Comedy</td>\n",
       "    </tr>\n",
       "    <tr>\n",
       "      <th>0</th>\n",
       "      <td>0</td>\n",
       "      <td>Fantasy</td>\n",
       "    </tr>\n",
       "  </tbody>\n",
       "</table>\n",
       "</div>"
      ],
      "text/plain": [
       "   movie_idx genres_arr\n",
       "0          0  Adventure\n",
       "0          0  Animation\n",
       "0          0   Children\n",
       "0          0     Comedy\n",
       "0          0    Fantasy"
      ]
     },
     "execution_count": 38,
     "metadata": {},
     "output_type": "execute_result"
    }
   ],
   "source": [
    "movies_tmp = movies[['movie_idx','genres_arr']].explode('genres_arr').drop_duplicates()\n",
    "movies_tmp.head()"
   ]
  },
  {
   "cell_type": "code",
   "execution_count": 39,
   "id": "a7bdea60-e0e1-4d61-9efa-2a992e0bad20",
   "metadata": {},
   "outputs": [
    {
     "data": {
      "text/html": [
       "<div>\n",
       "<style scoped>\n",
       "    .dataframe tbody tr th:only-of-type {\n",
       "        vertical-align: middle;\n",
       "    }\n",
       "\n",
       "    .dataframe tbody tr th {\n",
       "        vertical-align: top;\n",
       "    }\n",
       "\n",
       "    .dataframe thead th {\n",
       "        text-align: right;\n",
       "    }\n",
       "</style>\n",
       "<table border=\"1\" class=\"dataframe\">\n",
       "  <thead>\n",
       "    <tr style=\"text-align: right;\">\n",
       "      <th>genres_arr</th>\n",
       "      <th>(no genres listed)</th>\n",
       "      <th>Action</th>\n",
       "      <th>Adventure</th>\n",
       "      <th>Animation</th>\n",
       "      <th>Children</th>\n",
       "      <th>Comedy</th>\n",
       "      <th>Crime</th>\n",
       "      <th>Documentary</th>\n",
       "      <th>Drama</th>\n",
       "      <th>Fantasy</th>\n",
       "      <th>Film-Noir</th>\n",
       "      <th>Horror</th>\n",
       "      <th>IMAX</th>\n",
       "      <th>Musical</th>\n",
       "      <th>Mystery</th>\n",
       "      <th>Romance</th>\n",
       "      <th>Sci-Fi</th>\n",
       "      <th>Thriller</th>\n",
       "      <th>War</th>\n",
       "      <th>Western</th>\n",
       "    </tr>\n",
       "    <tr>\n",
       "      <th>movie_idx</th>\n",
       "      <th></th>\n",
       "      <th></th>\n",
       "      <th></th>\n",
       "      <th></th>\n",
       "      <th></th>\n",
       "      <th></th>\n",
       "      <th></th>\n",
       "      <th></th>\n",
       "      <th></th>\n",
       "      <th></th>\n",
       "      <th></th>\n",
       "      <th></th>\n",
       "      <th></th>\n",
       "      <th></th>\n",
       "      <th></th>\n",
       "      <th></th>\n",
       "      <th></th>\n",
       "      <th></th>\n",
       "      <th></th>\n",
       "      <th></th>\n",
       "    </tr>\n",
       "  </thead>\n",
       "  <tbody>\n",
       "    <tr>\n",
       "      <th>0</th>\n",
       "      <td>0.0</td>\n",
       "      <td>0.0</td>\n",
       "      <td>1.0</td>\n",
       "      <td>1.0</td>\n",
       "      <td>1.0</td>\n",
       "      <td>1.0</td>\n",
       "      <td>0.0</td>\n",
       "      <td>0.0</td>\n",
       "      <td>0.0</td>\n",
       "      <td>1.0</td>\n",
       "      <td>0.0</td>\n",
       "      <td>0.0</td>\n",
       "      <td>0.0</td>\n",
       "      <td>0.0</td>\n",
       "      <td>0.0</td>\n",
       "      <td>0.0</td>\n",
       "      <td>0.0</td>\n",
       "      <td>0.0</td>\n",
       "      <td>0.0</td>\n",
       "      <td>0.0</td>\n",
       "    </tr>\n",
       "    <tr>\n",
       "      <th>1</th>\n",
       "      <td>0.0</td>\n",
       "      <td>0.0</td>\n",
       "      <td>1.0</td>\n",
       "      <td>0.0</td>\n",
       "      <td>1.0</td>\n",
       "      <td>0.0</td>\n",
       "      <td>0.0</td>\n",
       "      <td>0.0</td>\n",
       "      <td>0.0</td>\n",
       "      <td>1.0</td>\n",
       "      <td>0.0</td>\n",
       "      <td>0.0</td>\n",
       "      <td>0.0</td>\n",
       "      <td>0.0</td>\n",
       "      <td>0.0</td>\n",
       "      <td>0.0</td>\n",
       "      <td>0.0</td>\n",
       "      <td>0.0</td>\n",
       "      <td>0.0</td>\n",
       "      <td>0.0</td>\n",
       "    </tr>\n",
       "    <tr>\n",
       "      <th>2</th>\n",
       "      <td>0.0</td>\n",
       "      <td>0.0</td>\n",
       "      <td>0.0</td>\n",
       "      <td>0.0</td>\n",
       "      <td>0.0</td>\n",
       "      <td>1.0</td>\n",
       "      <td>0.0</td>\n",
       "      <td>0.0</td>\n",
       "      <td>0.0</td>\n",
       "      <td>0.0</td>\n",
       "      <td>0.0</td>\n",
       "      <td>0.0</td>\n",
       "      <td>0.0</td>\n",
       "      <td>0.0</td>\n",
       "      <td>0.0</td>\n",
       "      <td>1.0</td>\n",
       "      <td>0.0</td>\n",
       "      <td>0.0</td>\n",
       "      <td>0.0</td>\n",
       "      <td>0.0</td>\n",
       "    </tr>\n",
       "    <tr>\n",
       "      <th>3</th>\n",
       "      <td>0.0</td>\n",
       "      <td>0.0</td>\n",
       "      <td>0.0</td>\n",
       "      <td>0.0</td>\n",
       "      <td>0.0</td>\n",
       "      <td>1.0</td>\n",
       "      <td>0.0</td>\n",
       "      <td>0.0</td>\n",
       "      <td>1.0</td>\n",
       "      <td>0.0</td>\n",
       "      <td>0.0</td>\n",
       "      <td>0.0</td>\n",
       "      <td>0.0</td>\n",
       "      <td>0.0</td>\n",
       "      <td>0.0</td>\n",
       "      <td>1.0</td>\n",
       "      <td>0.0</td>\n",
       "      <td>0.0</td>\n",
       "      <td>0.0</td>\n",
       "      <td>0.0</td>\n",
       "    </tr>\n",
       "    <tr>\n",
       "      <th>4</th>\n",
       "      <td>0.0</td>\n",
       "      <td>0.0</td>\n",
       "      <td>0.0</td>\n",
       "      <td>0.0</td>\n",
       "      <td>0.0</td>\n",
       "      <td>1.0</td>\n",
       "      <td>0.0</td>\n",
       "      <td>0.0</td>\n",
       "      <td>0.0</td>\n",
       "      <td>0.0</td>\n",
       "      <td>0.0</td>\n",
       "      <td>0.0</td>\n",
       "      <td>0.0</td>\n",
       "      <td>0.0</td>\n",
       "      <td>0.0</td>\n",
       "      <td>0.0</td>\n",
       "      <td>0.0</td>\n",
       "      <td>0.0</td>\n",
       "      <td>0.0</td>\n",
       "      <td>0.0</td>\n",
       "    </tr>\n",
       "  </tbody>\n",
       "</table>\n",
       "</div>"
      ],
      "text/plain": [
       "genres_arr  (no genres listed)  Action  Adventure  Animation  Children  \\\n",
       "movie_idx                                                                \n",
       "0                          0.0     0.0        1.0        1.0       1.0   \n",
       "1                          0.0     0.0        1.0        0.0       1.0   \n",
       "2                          0.0     0.0        0.0        0.0       0.0   \n",
       "3                          0.0     0.0        0.0        0.0       0.0   \n",
       "4                          0.0     0.0        0.0        0.0       0.0   \n",
       "\n",
       "genres_arr  Comedy  Crime  Documentary  Drama  Fantasy  Film-Noir  Horror  \\\n",
       "movie_idx                                                                   \n",
       "0              1.0    0.0          0.0    0.0      1.0        0.0     0.0   \n",
       "1              0.0    0.0          0.0    0.0      1.0        0.0     0.0   \n",
       "2              1.0    0.0          0.0    0.0      0.0        0.0     0.0   \n",
       "3              1.0    0.0          0.0    1.0      0.0        0.0     0.0   \n",
       "4              1.0    0.0          0.0    0.0      0.0        0.0     0.0   \n",
       "\n",
       "genres_arr  IMAX  Musical  Mystery  Romance  Sci-Fi  Thriller  War  Western  \n",
       "movie_idx                                                                    \n",
       "0            0.0      0.0      0.0      0.0     0.0       0.0  0.0      0.0  \n",
       "1            0.0      0.0      0.0      0.0     0.0       0.0  0.0      0.0  \n",
       "2            0.0      0.0      0.0      1.0     0.0       0.0  0.0      0.0  \n",
       "3            0.0      0.0      0.0      1.0     0.0       0.0  0.0      0.0  \n",
       "4            0.0      0.0      0.0      0.0     0.0       0.0  0.0      0.0  "
      ]
     },
     "execution_count": 39,
     "metadata": {},
     "output_type": "execute_result"
    }
   ],
   "source": [
    "movies_tmp.insert(loc=0, value=1, column='cnt')\n",
    "\n",
    "movie_features_sparse_matrix =  movies_tmp.pivot_table(index='movie_idx', columns='genres_arr', values='cnt', aggfunc='count').fillna(0)\n",
    "\n",
    "movie_features_sparse_matrix.head()"
   ]
  },
  {
   "cell_type": "code",
   "execution_count": 40,
   "id": "51d09723-0ed8-4327-a437-2f9a9e158657",
   "metadata": {},
   "outputs": [
    {
     "data": {
      "text/plain": [
       "Index(['(no genres listed)', 'Action', 'Adventure', 'Animation', 'Children',\n",
       "       'Comedy', 'Crime', 'Documentary', 'Drama', 'Fantasy', 'Film-Noir',\n",
       "       'Horror', 'IMAX', 'Musical', 'Mystery', 'Romance', 'Sci-Fi', 'Thriller',\n",
       "       'War', 'Western'],\n",
       "      dtype='object', name='genres_arr')"
      ]
     },
     "execution_count": 40,
     "metadata": {},
     "output_type": "execute_result"
    }
   ],
   "source": [
    "features = movie_features_sparse_matrix.columns\n",
    "features"
   ]
  },
  {
   "cell_type": "code",
   "execution_count": 41,
   "id": "03ce18a8-828a-40e8-a905-e7e136a05e3d",
   "metadata": {},
   "outputs": [],
   "source": [
    "n_movies, n_features = movie_features_sparse_matrix.shape"
   ]
  },
  {
   "cell_type": "markdown",
   "id": "18181024-91f6-4f32-b4a0-fec5ad3ef420",
   "metadata": {},
   "source": [
    "## user features matrix"
   ]
  },
  {
   "cell_type": "code",
   "execution_count": 42,
   "id": "053a2b5c-62f8-4335-8a09-6923e34e585e",
   "metadata": {},
   "outputs": [],
   "source": [
    "user_feaures_matrix = tf.sparse.to_dense(user_movies_sparse_matrix) @ movie_features_sparse_matrix"
   ]
  },
  {
   "cell_type": "code",
   "execution_count": 43,
   "id": "6f5ce84b-84a1-4fa6-8a0a-6ffb9b0c34e0",
   "metadata": {},
   "outputs": [
    {
     "data": {
      "text/plain": [
       "<tf.Tensor: shape=(610, 20), dtype=float64, numpy=\n",
       "array([[0.        , 0.0036827 , 0.00440006, ..., 0.00246712, 0.00535005,\n",
       "        0.00433714],\n",
       "       [0.        , 0.00041182, 0.00014746, ..., 0.00040037, 0.00024318,\n",
       "        0.000506  ],\n",
       "       [0.        , 0.00047335, 0.00035389, ..., 0.0003138 , 0.0001351 ,\n",
       "        0.        ],\n",
       "       ...,\n",
       "       [0.        , 0.0087334 , 0.00687731, ..., 0.00991176, 0.00367478,\n",
       "        0.00419257],\n",
       "       [0.        , 0.00032188, 0.00037749, ..., 0.00049775, 0.00075657,\n",
       "        0.00057829],\n",
       "       [0.        , 0.017623  , 0.01167256, ..., 0.01972072, 0.00959226,\n",
       "        0.01785456]])>"
      ]
     },
     "execution_count": 43,
     "metadata": {},
     "output_type": "execute_result"
    }
   ],
   "source": [
    "user_feaures_normalized_matrix = user_feaures_matrix / tf.reduce_sum(user_feaures_matrix, axis=0, keepdims=True)\n",
    "user_feaures_normalized_matrix"
   ]
  },
  {
   "cell_type": "markdown",
   "id": "add80131-e8f9-4d52-8215-1ce1391b5ae8",
   "metadata": {},
   "source": [
    "## get user genre preferences"
   ]
  },
  {
   "cell_type": "code",
   "execution_count": 44,
   "id": "11b490f6-28a9-4c8d-8673-9081f1221e43",
   "metadata": {},
   "outputs": [],
   "source": [
    "top_values, top_feature_idx = tf.nn.top_k(user_feaures_normalized_matrix, k=n_features)"
   ]
  },
  {
   "cell_type": "code",
   "execution_count": 45,
   "id": "9579ddcb-46b0-4b51-987b-75e90e6c122d",
   "metadata": {},
   "outputs": [
    {
     "data": {
      "text/plain": [
       "<tf.Tensor: shape=(610, 20), dtype=int32, numpy=\n",
       "array([[13,  4,  3, ...,  0,  7, 12],\n",
       "       [ 7, 12,  6, ...,  9, 10, 13],\n",
       "       [11, 16,  1, ..., 10, 12, 19],\n",
       "       ...,\n",
       "       [11, 17, 16, ..., 18, 12,  0],\n",
       "       [ 7, 18, 19, ..., 10, 13, 14],\n",
       "       [11, 12, 17, ...,  7, 13,  0]], dtype=int32)>"
      ]
     },
     "execution_count": 45,
     "metadata": {},
     "output_type": "execute_result"
    }
   ],
   "source": [
    "top_feature_idx"
   ]
  },
  {
   "cell_type": "code",
   "execution_count": 46,
   "id": "ca9088e2-12d6-4b49-b4aa-d786c3db59bd",
   "metadata": {},
   "outputs": [
    {
     "name": "stdout",
     "output_type": "stream",
     "text": [
      "1  :  ['Musical', 'Children', 'Animation', 'War', 'Fantasy', 'Adventure', 'Western', 'Action', 'Crime', 'Sci-Fi', 'Mystery', 'Comedy', 'Horror', 'Thriller', 'Drama', 'Romance', 'Film-Noir', '(no genres listed)', 'Documentary', 'IMAX']\n",
      "2  :  ['Documentary', 'IMAX', 'Crime', 'Western', 'Drama', 'Action', 'Thriller', 'Mystery', 'Sci-Fi', 'War', 'Comedy', 'Adventure', 'Horror', 'Romance', '(no genres listed)', 'Animation', 'Children', 'Fantasy', 'Film-Noir', 'Musical']\n",
      "3  :  ['Horror', 'Sci-Fi', 'Action', 'Adventure', 'Fantasy', 'Thriller', 'Mystery', 'War', 'Children', 'Animation', 'Drama', 'Comedy', 'Romance', 'Musical', 'Crime', '(no genres listed)', 'Documentary', 'Film-Noir', 'IMAX', 'Western']\n",
      "4  :  ['Western', 'Film-Noir', 'Musical', 'Romance', 'Mystery', 'Comedy', 'Drama', 'Documentary', 'Fantasy', 'Crime', 'Thriller', 'War', 'Adventure', 'Children', 'Animation', 'Action', 'Horror', 'Sci-Fi', 'IMAX', '(no genres listed)']\n",
      "5  :  ['Musical', 'Children', 'Animation', 'Western', 'Crime', 'IMAX', 'Fantasy', 'Drama', 'War', 'Romance', 'Comedy', 'Thriller', 'Adventure', 'Action', 'Mystery', 'Horror', 'Sci-Fi', '(no genres listed)', 'Documentary', 'Film-Noir']\n",
      "6  :  ['Western', 'Children', 'Romance', 'Musical', 'Drama', 'Comedy', 'Horror', 'Thriller', 'War', 'Animation', 'Fantasy', 'Action', 'Adventure', 'Mystery', 'Crime', 'Film-Noir', 'Sci-Fi', 'IMAX', '(no genres listed)', 'Documentary']\n",
      "7  :  ['Musical', 'Sci-Fi', 'War', 'Adventure', 'Action', 'Film-Noir', 'Animation', 'IMAX', 'Fantasy', 'Mystery', 'Thriller', 'Children', 'Crime', 'Romance', 'Comedy', 'Drama', 'Horror', 'Western', '(no genres listed)', 'Documentary']\n",
      "8  :  ['Western', 'Romance', 'Thriller', 'IMAX', 'War', 'Comedy', 'Crime', 'Children', 'Drama', 'Adventure', 'Mystery', 'Horror', 'Action', 'Musical', 'Fantasy', 'Sci-Fi', 'Animation', '(no genres listed)', 'Documentary', 'Film-Noir']\n",
      "9  :  ['Film-Noir', 'Western', 'Drama', 'Adventure', 'Mystery', 'Comedy', 'Sci-Fi', 'Horror', 'War', 'Crime', 'Thriller', 'Romance', 'Fantasy', 'Action', 'Musical', 'IMAX', 'Animation', 'Children', '(no genres listed)', 'Documentary']\n",
      "10  :  ['Romance', 'IMAX', 'Animation', 'Musical', 'Comedy', 'Children', 'Drama', 'Fantasy', 'Adventure', 'Action', 'War', 'Crime', 'Thriller', 'Mystery', 'Sci-Fi', 'Horror', '(no genres listed)', 'Documentary', 'Film-Noir', 'Western']\n"
     ]
    }
   ],
   "source": [
    "for i in range(10):\n",
    "    print(idx_to_userid_mapper[i],\" : \", [features[index.numpy()] for index in top_feature_idx[i]])"
   ]
  },
  {
   "cell_type": "markdown",
   "id": "49bfcbce-4d7d-48c6-bf0b-7e45d8b19a3f",
   "metadata": {},
   "source": [
    "## generate recommendations"
   ]
  },
  {
   "cell_type": "code",
   "execution_count": 47,
   "id": "2c1dc879-305d-4652-9053-8b67e12b3108",
   "metadata": {},
   "outputs": [
    {
     "data": {
      "text/plain": [
       "<tf.Tensor: shape=(610, 9742), dtype=float64, numpy=\n",
       "array([[2.34144663e-02, 1.53672983e-02, 4.44799682e-03, ...,\n",
       "        2.00917829e-03, 9.04420830e-03, 2.68566046e-03],\n",
       "       [3.59281959e-04, 1.47455218e-04, 2.82634898e-04, ...,\n",
       "        4.30538205e-04, 4.11818724e-04, 2.11826741e-04],\n",
       "       [9.07153696e-04, 7.60220830e-04, 1.07425032e-04, ...,\n",
       "        7.82796737e-05, 5.52200554e-04, 6.80871667e-05],\n",
       "       ...,\n",
       "       [3.59375662e-02, 2.18269162e-02, 1.21645861e-02, ...,\n",
       "        6.27868216e-03, 1.54944158e-02, 7.34963138e-03],\n",
       "       [9.33293364e-04, 6.41024279e-04, 4.25762873e-04, ...,\n",
       "        4.17491593e-04, 4.40149850e-04, 1.74000537e-04],\n",
       "       [5.30641013e-02, 3.13114209e-02, 1.85877015e-02, ...,\n",
       "        1.21072562e-02, 2.77743850e-02, 1.16012967e-02]])>"
      ]
     },
     "execution_count": 47,
     "metadata": {},
     "output_type": "execute_result"
    }
   ],
   "source": [
    "user_ratings = user_feaures_normalized_matrix @ tf.transpose(movie_features_sparse_matrix)\n",
    "\n",
    "user_ratings"
   ]
  },
  {
   "cell_type": "code",
   "execution_count": 48,
   "id": "82fd71bd-5e34-4b7c-bb77-6bbf40c9ce05",
   "metadata": {},
   "outputs": [
    {
     "data": {
      "text/plain": [
       "<tf.Tensor: shape=(610, 9742), dtype=bool, numpy=\n",
       "array([[False,  True, False, ...,  True,  True,  True],\n",
       "       [ True,  True,  True, ...,  True,  True,  True],\n",
       "       [ True,  True,  True, ...,  True,  True,  True],\n",
       "       ...,\n",
       "       [False, False, False, ...,  True,  True,  True],\n",
       "       [False,  True,  True, ...,  True,  True,  True],\n",
       "       [False,  True,  True, ...,  True,  True,  True]])>"
      ]
     },
     "execution_count": 48,
     "metadata": {},
     "output_type": "execute_result"
    }
   ],
   "source": [
    "unseen_movies = tf.equal(tf.sparse.to_dense(user_movies_sparse_matrix), \n",
    "                         tf.zeros_like(tf.sparse.to_dense(user_movies_sparse_matrix)))\n",
    "unseen_movies"
   ]
  },
  {
   "cell_type": "code",
   "execution_count": 49,
   "id": "01fb4ebe-00ab-4f45-be69-051df2dd26b0",
   "metadata": {},
   "outputs": [
    {
     "data": {
      "text/plain": [
       "<tf.Tensor: shape=(610, 9742), dtype=float64, numpy=\n",
       "array([[0., 0., 0., ..., 0., 0., 0.],\n",
       "       [0., 0., 0., ..., 0., 0., 0.],\n",
       "       [0., 0., 0., ..., 0., 0., 0.],\n",
       "       ...,\n",
       "       [0., 0., 0., ..., 0., 0., 0.],\n",
       "       [0., 0., 0., ..., 0., 0., 0.],\n",
       "       [0., 0., 0., ..., 0., 0., 0.]])>"
      ]
     },
     "execution_count": 49,
     "metadata": {},
     "output_type": "execute_result"
    }
   ],
   "source": [
    "ignore_matrix = tf.zeros_like(tf.sparse.to_dense(user_movies_sparse_matrix))\n",
    "ignore_matrix"
   ]
  },
  {
   "cell_type": "code",
   "execution_count": 50,
   "id": "f6d2ecae-49c1-4bfd-a6b5-717be6f7eba0",
   "metadata": {},
   "outputs": [
    {
     "data": {
      "text/plain": [
       "<tf.Tensor: shape=(610, 9742), dtype=float64, numpy=\n",
       "array([[0.00000000e+00, 1.53672983e-02, 0.00000000e+00, ...,\n",
       "        2.00917829e-03, 9.04420830e-03, 2.68566046e-03],\n",
       "       [3.59281959e-04, 1.47455218e-04, 2.82634898e-04, ...,\n",
       "        4.30538205e-04, 4.11818724e-04, 2.11826741e-04],\n",
       "       [9.07153696e-04, 7.60220830e-04, 1.07425032e-04, ...,\n",
       "        7.82796737e-05, 5.52200554e-04, 6.80871667e-05],\n",
       "       ...,\n",
       "       [0.00000000e+00, 0.00000000e+00, 0.00000000e+00, ...,\n",
       "        6.27868216e-03, 1.54944158e-02, 7.34963138e-03],\n",
       "       [0.00000000e+00, 6.41024279e-04, 4.25762873e-04, ...,\n",
       "        4.17491593e-04, 4.40149850e-04, 1.74000537e-04],\n",
       "       [0.00000000e+00, 3.13114209e-02, 1.85877015e-02, ...,\n",
       "        1.21072562e-02, 2.77743850e-02, 1.16012967e-02]])>"
      ]
     },
     "execution_count": 50,
     "metadata": {},
     "output_type": "execute_result"
    }
   ],
   "source": [
    "new_ratings = tf.where(condition=unseen_movies, x=user_ratings, y=ignore_matrix)\n",
    "\n",
    "new_ratings"
   ]
  },
  {
   "cell_type": "code",
   "execution_count": 51,
   "id": "6b41fe00-255d-4d4f-8ca1-73c26163d8e5",
   "metadata": {},
   "outputs": [],
   "source": [
    "top_movies_idx = tf.nn.top_k(user_ratings, k = 5)[1]"
   ]
  },
  {
   "cell_type": "code",
   "execution_count": 52,
   "id": "327649cd-42e3-4438-85e6-308bf3dc6b1e",
   "metadata": {},
   "outputs": [],
   "source": [
    "def get_movie_name(movie_id):\n",
    "    return movies[movies['movieId'] == movie_id].title.iloc[0]"
   ]
  },
  {
   "cell_type": "code",
   "execution_count": 53,
   "id": "b6be7d7a-e1de-48fa-9142-7908ca721bf4",
   "metadata": {},
   "outputs": [
    {
     "name": "stdout",
     "output_type": "stream",
     "text": [
      "1 ['Enchanted (2007)', 'All Dogs Go to Heaven 2 (1996)', 'Return of Jafar, The (1994)', 'Rubber (2010)', 'Who Framed Roger Rabbit? (1988)']\n",
      "2 ['From the Earth to the Moon (1998)', 'T-Rex: Back to the Cretaceous (1998)', 'Everest (1998)', 'Michael Jordan to the Max (2000)', 'Africa: The Serengeti (1994)']\n",
      "3 ['Pulse (2006)', 'Cave, The (2005)', 'Night Watch (Nochnoy dozor) (2004)', 'Rogue (2007)', 'Phantasm II (1988)']\n",
      "4 ['Rubber (2010)', 'Song of the Thin Man (1947)', 'Lost Highway (1997)', 'Mulan (1998)', 'Patlabor: The Movie (Kidô keisatsu patorebâ: The Movie) (1989)']\n",
      "5 ['Tangled (2010)', 'Beauty and the Beast (1991)', 'Enchanted (2007)', 'Mulan (1998)', 'Lion King, The (1994)']\n",
      "6 ['Rubber (2010)', 'Mulan (1998)', 'Enchanted (2007)', 'Tangled (2010)', 'Rango (2011)']\n",
      "7 ['Rubber (2010)', 'Patlabor: The Movie (Kidô keisatsu patorebâ: The Movie) (1989)', 'Mars Needs Moms (2011)', 'Aqua Teen Hunger Force Colon Movie Film for Theaters (2007)', 'Robots (2005)']\n",
      "8 ['Rubber (2010)', 'Osmosis Jones (2001)', 'Northwest Passage (1940)', 'Chase, The (1994)', 'Mulan (1998)']\n",
      "9 ['Rubber (2010)', 'Patlabor: The Movie (Kidô keisatsu patorebâ: The Movie) (1989)', 'Lost Highway (1997)', 'Mulholland Drive (2001)', 'Too Late for Tears (1949)']\n",
      "10 ['Tangled (2010)', 'Beauty and the Beast (1991)', 'Mulan (1998)', 'Enchanted (2007)', 'Aladdin and the King of Thieves (1996)']\n",
      "11 ['Rubber (2010)', 'Blood Diamond (2006)', 'Northwest Passage (1940)', 'Getaway, The (1994)', 'Aelita: The Queen of Mars (Aelita) (1924)']\n",
      "12 ['Ghost (1990)', 'Click (2006)', 'Michael (1996)', 'Purple Rose of Cairo, The (1985)', 'Big (1988)']\n",
      "13 ['Rubber (2010)', 'Tremors 4: The Legend Begins (2004)', 'Pulse (2006)', 'Cave, The (2005)', 'Ichi the Killer (Koroshiya 1) (2001)']\n",
      "14 ['Rubber (2010)', 'Northwest Passage (1940)', 'Legends of the Fall (1994)', 'Last of the Mohicans, The (1992)', 'Alamo, The (1960)']\n",
      "15 ['Mars Needs Moms (2011)', 'Robots (2005)', 'Inception (2010)', 'Megamind (2010)', 'Treasure Planet (2002)']\n"
     ]
    }
   ],
   "source": [
    "for i in range(15):\n",
    "    print(idx_to_userid_mapper[i], \n",
    "          [get_movie_name(idx_to_movieid_mapper[index.numpy()]) for index in top_movies_idx[i]])"
   ]
  }
 ],
 "metadata": {
  "kernelspec": {
   "display_name": "Python 3 (ipykernel)",
   "language": "python",
   "name": "python3"
  },
  "language_info": {
   "codemirror_mode": {
    "name": "ipython",
    "version": 3
   },
   "file_extension": ".py",
   "mimetype": "text/x-python",
   "name": "python",
   "nbconvert_exporter": "python",
   "pygments_lexer": "ipython3",
   "version": "3.9.1"
  }
 },
 "nbformat": 4,
 "nbformat_minor": 5
}
