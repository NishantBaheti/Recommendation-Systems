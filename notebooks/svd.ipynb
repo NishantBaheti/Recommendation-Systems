{
 "cells": [
  {
   "cell_type": "markdown",
   "id": "f437fde0-0d08-4cca-b29c-d942cf3ea4de",
   "metadata": {},
   "source": [
    "# Singular Value Decomposition"
   ]
  },
  {
   "cell_type": "markdown",
   "id": "a5ed5710-3d99-4b7a-970d-4275ec8afa60",
   "metadata": {},
   "source": [
    "## References\n",
    "\n",
    "- MLGuideBook : Singular Value Decomposition\n",
    "    \n",
    "    https://mlguidebook.com/en/latest/MathExploration/SingularValueDecomposition.html"
   ]
  },
  {
   "cell_type": "code",
   "execution_count": 1,
   "id": "2f0f30fc-bfaa-4f49-bc67-ad023779506b",
   "metadata": {},
   "outputs": [],
   "source": [
    "import numpy as np\n",
    "import pandas as pd\n",
    "import matplotlib.pyplot as plt"
   ]
  },
  {
   "cell_type": "markdown",
   "id": "ac6cc41e",
   "metadata": {},
   "source": [
    "## Dataset Preparation"
   ]
  },
  {
   "cell_type": "code",
   "execution_count": 2,
   "id": "f2dfb133-27cf-4486-8352-070accdc1b78",
   "metadata": {},
   "outputs": [
    {
     "data": {
      "text/html": [
       "<div>\n",
       "<style scoped>\n",
       "    .dataframe tbody tr th:only-of-type {\n",
       "        vertical-align: middle;\n",
       "    }\n",
       "\n",
       "    .dataframe tbody tr th {\n",
       "        vertical-align: top;\n",
       "    }\n",
       "\n",
       "    .dataframe thead th {\n",
       "        text-align: right;\n",
       "    }\n",
       "</style>\n",
       "<table border=\"1\" class=\"dataframe\">\n",
       "  <thead>\n",
       "    <tr style=\"text-align: right;\">\n",
       "      <th></th>\n",
       "      <th>userId</th>\n",
       "      <th>movieId</th>\n",
       "      <th>rating</th>\n",
       "      <th>timestamp</th>\n",
       "    </tr>\n",
       "  </thead>\n",
       "  <tbody>\n",
       "    <tr>\n",
       "      <th>0</th>\n",
       "      <td>1</td>\n",
       "      <td>1</td>\n",
       "      <td>4.0</td>\n",
       "      <td>964982703</td>\n",
       "    </tr>\n",
       "    <tr>\n",
       "      <th>1</th>\n",
       "      <td>1</td>\n",
       "      <td>3</td>\n",
       "      <td>4.0</td>\n",
       "      <td>964981247</td>\n",
       "    </tr>\n",
       "    <tr>\n",
       "      <th>2</th>\n",
       "      <td>1</td>\n",
       "      <td>6</td>\n",
       "      <td>4.0</td>\n",
       "      <td>964982224</td>\n",
       "    </tr>\n",
       "    <tr>\n",
       "      <th>3</th>\n",
       "      <td>1</td>\n",
       "      <td>47</td>\n",
       "      <td>5.0</td>\n",
       "      <td>964983815</td>\n",
       "    </tr>\n",
       "    <tr>\n",
       "      <th>4</th>\n",
       "      <td>1</td>\n",
       "      <td>50</td>\n",
       "      <td>5.0</td>\n",
       "      <td>964982931</td>\n",
       "    </tr>\n",
       "  </tbody>\n",
       "</table>\n",
       "</div>"
      ],
      "text/plain": [
       "   userId  movieId  rating  timestamp\n",
       "0       1        1     4.0  964982703\n",
       "1       1        3     4.0  964981247\n",
       "2       1        6     4.0  964982224\n",
       "3       1       47     5.0  964983815\n",
       "4       1       50     5.0  964982931"
      ]
     },
     "execution_count": 2,
     "metadata": {},
     "output_type": "execute_result"
    }
   ],
   "source": [
    "ratings = pd.read_csv('./datasets/ratings.csv')\n",
    "ratings.head()"
   ]
  },
  {
   "cell_type": "code",
   "execution_count": 3,
   "id": "39cf0491-f66b-47ae-a717-c01572522caa",
   "metadata": {},
   "outputs": [
    {
     "data": {
      "text/html": [
       "<div>\n",
       "<style scoped>\n",
       "    .dataframe tbody tr th:only-of-type {\n",
       "        vertical-align: middle;\n",
       "    }\n",
       "\n",
       "    .dataframe tbody tr th {\n",
       "        vertical-align: top;\n",
       "    }\n",
       "\n",
       "    .dataframe thead th {\n",
       "        text-align: right;\n",
       "    }\n",
       "</style>\n",
       "<table border=\"1\" class=\"dataframe\">\n",
       "  <thead>\n",
       "    <tr style=\"text-align: right;\">\n",
       "      <th></th>\n",
       "      <th>movieId</th>\n",
       "      <th>title</th>\n",
       "      <th>genres</th>\n",
       "    </tr>\n",
       "  </thead>\n",
       "  <tbody>\n",
       "    <tr>\n",
       "      <th>0</th>\n",
       "      <td>1</td>\n",
       "      <td>Toy Story (1995)</td>\n",
       "      <td>Adventure|Animation|Children|Comedy|Fantasy</td>\n",
       "    </tr>\n",
       "    <tr>\n",
       "      <th>1</th>\n",
       "      <td>2</td>\n",
       "      <td>Jumanji (1995)</td>\n",
       "      <td>Adventure|Children|Fantasy</td>\n",
       "    </tr>\n",
       "    <tr>\n",
       "      <th>2</th>\n",
       "      <td>3</td>\n",
       "      <td>Grumpier Old Men (1995)</td>\n",
       "      <td>Comedy|Romance</td>\n",
       "    </tr>\n",
       "    <tr>\n",
       "      <th>3</th>\n",
       "      <td>4</td>\n",
       "      <td>Waiting to Exhale (1995)</td>\n",
       "      <td>Comedy|Drama|Romance</td>\n",
       "    </tr>\n",
       "    <tr>\n",
       "      <th>4</th>\n",
       "      <td>5</td>\n",
       "      <td>Father of the Bride Part II (1995)</td>\n",
       "      <td>Comedy</td>\n",
       "    </tr>\n",
       "  </tbody>\n",
       "</table>\n",
       "</div>"
      ],
      "text/plain": [
       "   movieId                               title  \\\n",
       "0        1                    Toy Story (1995)   \n",
       "1        2                      Jumanji (1995)   \n",
       "2        3             Grumpier Old Men (1995)   \n",
       "3        4            Waiting to Exhale (1995)   \n",
       "4        5  Father of the Bride Part II (1995)   \n",
       "\n",
       "                                        genres  \n",
       "0  Adventure|Animation|Children|Comedy|Fantasy  \n",
       "1                   Adventure|Children|Fantasy  \n",
       "2                               Comedy|Romance  \n",
       "3                         Comedy|Drama|Romance  \n",
       "4                                       Comedy  "
      ]
     },
     "execution_count": 3,
     "metadata": {},
     "output_type": "execute_result"
    }
   ],
   "source": [
    "movies = pd.read_csv('./datasets/movies.csv')\n",
    "movies.head(5)"
   ]
  },
  {
   "cell_type": "markdown",
   "id": "40e7bdb9",
   "metadata": {},
   "source": [
    "## Entity to Index Mappers"
   ]
  },
  {
   "cell_type": "code",
   "execution_count": 27,
   "id": "35dfb277-c707-4258-be37-f4b7d2cdcb3d",
   "metadata": {},
   "outputs": [],
   "source": [
    "idx_to_userid_mapper = dict(enumerate(ratings.userId.unique()))\n",
    "userid_to_idx_mapper = dict(zip(idx_to_userid_mapper.values(), idx_to_userid_mapper.keys()))\n",
    "\n",
    "idx_to_movieid_mapper = dict(enumerate(ratings.movieId.unique()))\n",
    "movieid_to_idx_mapper = dict(zip(idx_to_movieid_mapper.values(), idx_to_movieid_mapper.keys()))"
   ]
  },
  {
   "cell_type": "code",
   "execution_count": 28,
   "id": "077892e2",
   "metadata": {},
   "outputs": [
    {
     "data": {
      "text/html": [
       "<div>\n",
       "<style scoped>\n",
       "    .dataframe tbody tr th:only-of-type {\n",
       "        vertical-align: middle;\n",
       "    }\n",
       "\n",
       "    .dataframe tbody tr th {\n",
       "        vertical-align: top;\n",
       "    }\n",
       "\n",
       "    .dataframe thead th {\n",
       "        text-align: right;\n",
       "    }\n",
       "</style>\n",
       "<table border=\"1\" class=\"dataframe\">\n",
       "  <thead>\n",
       "    <tr style=\"text-align: right;\">\n",
       "      <th></th>\n",
       "      <th>userId</th>\n",
       "      <th>movieId</th>\n",
       "      <th>rating</th>\n",
       "      <th>timestamp</th>\n",
       "      <th>user_idx</th>\n",
       "      <th>movie_idx</th>\n",
       "    </tr>\n",
       "  </thead>\n",
       "  <tbody>\n",
       "    <tr>\n",
       "      <th>0</th>\n",
       "      <td>1</td>\n",
       "      <td>1</td>\n",
       "      <td>4.0</td>\n",
       "      <td>964982703</td>\n",
       "      <td>0</td>\n",
       "      <td>0</td>\n",
       "    </tr>\n",
       "    <tr>\n",
       "      <th>1</th>\n",
       "      <td>1</td>\n",
       "      <td>3</td>\n",
       "      <td>4.0</td>\n",
       "      <td>964981247</td>\n",
       "      <td>0</td>\n",
       "      <td>1</td>\n",
       "    </tr>\n",
       "    <tr>\n",
       "      <th>2</th>\n",
       "      <td>1</td>\n",
       "      <td>6</td>\n",
       "      <td>4.0</td>\n",
       "      <td>964982224</td>\n",
       "      <td>0</td>\n",
       "      <td>2</td>\n",
       "    </tr>\n",
       "    <tr>\n",
       "      <th>3</th>\n",
       "      <td>1</td>\n",
       "      <td>47</td>\n",
       "      <td>5.0</td>\n",
       "      <td>964983815</td>\n",
       "      <td>0</td>\n",
       "      <td>3</td>\n",
       "    </tr>\n",
       "    <tr>\n",
       "      <th>4</th>\n",
       "      <td>1</td>\n",
       "      <td>50</td>\n",
       "      <td>5.0</td>\n",
       "      <td>964982931</td>\n",
       "      <td>0</td>\n",
       "      <td>4</td>\n",
       "    </tr>\n",
       "  </tbody>\n",
       "</table>\n",
       "</div>"
      ],
      "text/plain": [
       "   userId  movieId  rating  timestamp  user_idx  movie_idx\n",
       "0       1        1     4.0  964982703         0          0\n",
       "1       1        3     4.0  964981247         0          1\n",
       "2       1        6     4.0  964982224         0          2\n",
       "3       1       47     5.0  964983815         0          3\n",
       "4       1       50     5.0  964982931         0          4"
      ]
     },
     "execution_count": 28,
     "metadata": {},
     "output_type": "execute_result"
    }
   ],
   "source": [
    "ratings['user_idx'] = ratings['userId'].map(userid_to_idx_mapper).apply(np.int32)\n",
    "ratings['movie_idx'] = ratings['movieId'].map(movieid_to_idx_mapper).apply(np.int32)\n",
    "ratings.head(5)"
   ]
  },
  {
   "cell_type": "code",
   "execution_count": 29,
   "id": "898fafc7-34b2-4227-a780-345edc58014f",
   "metadata": {},
   "outputs": [
    {
     "data": {
      "text/html": [
       "<div>\n",
       "<style scoped>\n",
       "    .dataframe tbody tr th:only-of-type {\n",
       "        vertical-align: middle;\n",
       "    }\n",
       "\n",
       "    .dataframe tbody tr th {\n",
       "        vertical-align: top;\n",
       "    }\n",
       "\n",
       "    .dataframe thead th {\n",
       "        text-align: right;\n",
       "    }\n",
       "</style>\n",
       "<table border=\"1\" class=\"dataframe\">\n",
       "  <thead>\n",
       "    <tr style=\"text-align: right;\">\n",
       "      <th></th>\n",
       "      <th>movieId</th>\n",
       "      <th>title</th>\n",
       "      <th>genres</th>\n",
       "      <th>movie_idx</th>\n",
       "    </tr>\n",
       "  </thead>\n",
       "  <tbody>\n",
       "    <tr>\n",
       "      <th>0</th>\n",
       "      <td>1</td>\n",
       "      <td>Toy Story (1995)</td>\n",
       "      <td>Adventure|Animation|Children|Comedy|Fantasy</td>\n",
       "      <td>0.0</td>\n",
       "    </tr>\n",
       "    <tr>\n",
       "      <th>1</th>\n",
       "      <td>2</td>\n",
       "      <td>Jumanji (1995)</td>\n",
       "      <td>Adventure|Children|Fantasy</td>\n",
       "      <td>481.0</td>\n",
       "    </tr>\n",
       "    <tr>\n",
       "      <th>2</th>\n",
       "      <td>3</td>\n",
       "      <td>Grumpier Old Men (1995)</td>\n",
       "      <td>Comedy|Romance</td>\n",
       "      <td>1.0</td>\n",
       "    </tr>\n",
       "    <tr>\n",
       "      <th>3</th>\n",
       "      <td>4</td>\n",
       "      <td>Waiting to Exhale (1995)</td>\n",
       "      <td>Comedy|Drama|Romance</td>\n",
       "      <td>482.0</td>\n",
       "    </tr>\n",
       "    <tr>\n",
       "      <th>4</th>\n",
       "      <td>5</td>\n",
       "      <td>Father of the Bride Part II (1995)</td>\n",
       "      <td>Comedy</td>\n",
       "      <td>483.0</td>\n",
       "    </tr>\n",
       "  </tbody>\n",
       "</table>\n",
       "</div>"
      ],
      "text/plain": [
       "   movieId                               title  \\\n",
       "0        1                    Toy Story (1995)   \n",
       "1        2                      Jumanji (1995)   \n",
       "2        3             Grumpier Old Men (1995)   \n",
       "3        4            Waiting to Exhale (1995)   \n",
       "4        5  Father of the Bride Part II (1995)   \n",
       "\n",
       "                                        genres  movie_idx  \n",
       "0  Adventure|Animation|Children|Comedy|Fantasy        0.0  \n",
       "1                   Adventure|Children|Fantasy      481.0  \n",
       "2                               Comedy|Romance        1.0  \n",
       "3                         Comedy|Drama|Romance      482.0  \n",
       "4                                       Comedy      483.0  "
      ]
     },
     "execution_count": 29,
     "metadata": {},
     "output_type": "execute_result"
    }
   ],
   "source": [
    "movies['movie_idx'] = movies['movieId'].map(movieid_to_idx_mapper).dropna()\n",
    "movies.head(5)"
   ]
  },
  {
   "cell_type": "markdown",
   "id": "79e814a6-ca21-4925-8ed7-ae225bde88da",
   "metadata": {},
   "source": [
    "non mapped movies. i.e. non rated movie by any user."
   ]
  },
  {
   "cell_type": "code",
   "execution_count": 31,
   "id": "62766bfa-a6fd-43a8-9fe9-5ad4d6afcfb7",
   "metadata": {},
   "outputs": [
    {
     "data": {
      "text/plain": [
       "(18, 4)"
      ]
     },
     "execution_count": 31,
     "metadata": {},
     "output_type": "execute_result"
    }
   ],
   "source": [
    "movies[movies.movie_idx.isna()].shape"
   ]
  },
  {
   "cell_type": "markdown",
   "id": "6b709007-eaa4-4e37-9347-e2a380f53fdd",
   "metadata": {},
   "source": [
    "## Matrices"
   ]
  },
  {
   "cell_type": "markdown",
   "id": "29b5bd35",
   "metadata": {},
   "source": [
    "### User-Item"
   ]
  },
  {
   "cell_type": "code",
   "execution_count": 7,
   "id": "fdba0bd0-bfe9-47bf-b158-9caa03088271",
   "metadata": {},
   "outputs": [
    {
     "data": {
      "text/html": [
       "<div>\n",
       "<style scoped>\n",
       "    .dataframe tbody tr th:only-of-type {\n",
       "        vertical-align: middle;\n",
       "    }\n",
       "\n",
       "    .dataframe tbody tr th {\n",
       "        vertical-align: top;\n",
       "    }\n",
       "\n",
       "    .dataframe thead tr th {\n",
       "        text-align: left;\n",
       "    }\n",
       "\n",
       "    .dataframe thead tr:last-of-type th {\n",
       "        text-align: right;\n",
       "    }\n",
       "</style>\n",
       "<table border=\"1\" class=\"dataframe\">\n",
       "  <thead>\n",
       "    <tr>\n",
       "      <th></th>\n",
       "      <th colspan=\"21\" halign=\"left\">rating</th>\n",
       "    </tr>\n",
       "    <tr>\n",
       "      <th>movie_idx</th>\n",
       "      <th>0</th>\n",
       "      <th>1</th>\n",
       "      <th>2</th>\n",
       "      <th>3</th>\n",
       "      <th>4</th>\n",
       "      <th>5</th>\n",
       "      <th>6</th>\n",
       "      <th>7</th>\n",
       "      <th>8</th>\n",
       "      <th>9</th>\n",
       "      <th>...</th>\n",
       "      <th>9714</th>\n",
       "      <th>9715</th>\n",
       "      <th>9716</th>\n",
       "      <th>9717</th>\n",
       "      <th>9718</th>\n",
       "      <th>9719</th>\n",
       "      <th>9720</th>\n",
       "      <th>9721</th>\n",
       "      <th>9722</th>\n",
       "      <th>9723</th>\n",
       "    </tr>\n",
       "    <tr>\n",
       "      <th>user_idx</th>\n",
       "      <th></th>\n",
       "      <th></th>\n",
       "      <th></th>\n",
       "      <th></th>\n",
       "      <th></th>\n",
       "      <th></th>\n",
       "      <th></th>\n",
       "      <th></th>\n",
       "      <th></th>\n",
       "      <th></th>\n",
       "      <th></th>\n",
       "      <th></th>\n",
       "      <th></th>\n",
       "      <th></th>\n",
       "      <th></th>\n",
       "      <th></th>\n",
       "      <th></th>\n",
       "      <th></th>\n",
       "      <th></th>\n",
       "      <th></th>\n",
       "      <th></th>\n",
       "    </tr>\n",
       "  </thead>\n",
       "  <tbody>\n",
       "    <tr>\n",
       "      <th>0</th>\n",
       "      <td>4.0</td>\n",
       "      <td>4.0</td>\n",
       "      <td>4.0</td>\n",
       "      <td>5.0</td>\n",
       "      <td>5.0</td>\n",
       "      <td>3.0</td>\n",
       "      <td>5.0</td>\n",
       "      <td>4.0</td>\n",
       "      <td>5.0</td>\n",
       "      <td>5.0</td>\n",
       "      <td>...</td>\n",
       "      <td>NaN</td>\n",
       "      <td>NaN</td>\n",
       "      <td>NaN</td>\n",
       "      <td>NaN</td>\n",
       "      <td>NaN</td>\n",
       "      <td>NaN</td>\n",
       "      <td>NaN</td>\n",
       "      <td>NaN</td>\n",
       "      <td>NaN</td>\n",
       "      <td>NaN</td>\n",
       "    </tr>\n",
       "    <tr>\n",
       "      <th>1</th>\n",
       "      <td>NaN</td>\n",
       "      <td>NaN</td>\n",
       "      <td>NaN</td>\n",
       "      <td>NaN</td>\n",
       "      <td>NaN</td>\n",
       "      <td>NaN</td>\n",
       "      <td>NaN</td>\n",
       "      <td>NaN</td>\n",
       "      <td>NaN</td>\n",
       "      <td>NaN</td>\n",
       "      <td>...</td>\n",
       "      <td>NaN</td>\n",
       "      <td>NaN</td>\n",
       "      <td>NaN</td>\n",
       "      <td>NaN</td>\n",
       "      <td>NaN</td>\n",
       "      <td>NaN</td>\n",
       "      <td>NaN</td>\n",
       "      <td>NaN</td>\n",
       "      <td>NaN</td>\n",
       "      <td>NaN</td>\n",
       "    </tr>\n",
       "    <tr>\n",
       "      <th>2</th>\n",
       "      <td>NaN</td>\n",
       "      <td>NaN</td>\n",
       "      <td>NaN</td>\n",
       "      <td>NaN</td>\n",
       "      <td>NaN</td>\n",
       "      <td>NaN</td>\n",
       "      <td>NaN</td>\n",
       "      <td>NaN</td>\n",
       "      <td>NaN</td>\n",
       "      <td>NaN</td>\n",
       "      <td>...</td>\n",
       "      <td>NaN</td>\n",
       "      <td>NaN</td>\n",
       "      <td>NaN</td>\n",
       "      <td>NaN</td>\n",
       "      <td>NaN</td>\n",
       "      <td>NaN</td>\n",
       "      <td>NaN</td>\n",
       "      <td>NaN</td>\n",
       "      <td>NaN</td>\n",
       "      <td>NaN</td>\n",
       "    </tr>\n",
       "    <tr>\n",
       "      <th>3</th>\n",
       "      <td>NaN</td>\n",
       "      <td>NaN</td>\n",
       "      <td>NaN</td>\n",
       "      <td>2.0</td>\n",
       "      <td>NaN</td>\n",
       "      <td>NaN</td>\n",
       "      <td>NaN</td>\n",
       "      <td>NaN</td>\n",
       "      <td>NaN</td>\n",
       "      <td>NaN</td>\n",
       "      <td>...</td>\n",
       "      <td>NaN</td>\n",
       "      <td>NaN</td>\n",
       "      <td>NaN</td>\n",
       "      <td>NaN</td>\n",
       "      <td>NaN</td>\n",
       "      <td>NaN</td>\n",
       "      <td>NaN</td>\n",
       "      <td>NaN</td>\n",
       "      <td>NaN</td>\n",
       "      <td>NaN</td>\n",
       "    </tr>\n",
       "    <tr>\n",
       "      <th>4</th>\n",
       "      <td>4.0</td>\n",
       "      <td>NaN</td>\n",
       "      <td>NaN</td>\n",
       "      <td>NaN</td>\n",
       "      <td>4.0</td>\n",
       "      <td>NaN</td>\n",
       "      <td>NaN</td>\n",
       "      <td>4.0</td>\n",
       "      <td>NaN</td>\n",
       "      <td>NaN</td>\n",
       "      <td>...</td>\n",
       "      <td>NaN</td>\n",
       "      <td>NaN</td>\n",
       "      <td>NaN</td>\n",
       "      <td>NaN</td>\n",
       "      <td>NaN</td>\n",
       "      <td>NaN</td>\n",
       "      <td>NaN</td>\n",
       "      <td>NaN</td>\n",
       "      <td>NaN</td>\n",
       "      <td>NaN</td>\n",
       "    </tr>\n",
       "  </tbody>\n",
       "</table>\n",
       "<p>5 rows × 9724 columns</p>\n",
       "</div>"
      ],
      "text/plain": [
       "          rating                                               ...            \\\n",
       "movie_idx   0    1    2    3    4    5    6    7    8    9     ... 9714 9715   \n",
       "user_idx                                                       ...             \n",
       "0            4.0  4.0  4.0  5.0  5.0  3.0  5.0  4.0  5.0  5.0  ...  NaN  NaN   \n",
       "1            NaN  NaN  NaN  NaN  NaN  NaN  NaN  NaN  NaN  NaN  ...  NaN  NaN   \n",
       "2            NaN  NaN  NaN  NaN  NaN  NaN  NaN  NaN  NaN  NaN  ...  NaN  NaN   \n",
       "3            NaN  NaN  NaN  2.0  NaN  NaN  NaN  NaN  NaN  NaN  ...  NaN  NaN   \n",
       "4            4.0  NaN  NaN  NaN  4.0  NaN  NaN  4.0  NaN  NaN  ...  NaN  NaN   \n",
       "\n",
       "                                                   \n",
       "movie_idx 9716 9717 9718 9719 9720 9721 9722 9723  \n",
       "user_idx                                           \n",
       "0          NaN  NaN  NaN  NaN  NaN  NaN  NaN  NaN  \n",
       "1          NaN  NaN  NaN  NaN  NaN  NaN  NaN  NaN  \n",
       "2          NaN  NaN  NaN  NaN  NaN  NaN  NaN  NaN  \n",
       "3          NaN  NaN  NaN  NaN  NaN  NaN  NaN  NaN  \n",
       "4          NaN  NaN  NaN  NaN  NaN  NaN  NaN  NaN  \n",
       "\n",
       "[5 rows x 9724 columns]"
      ]
     },
     "execution_count": 7,
     "metadata": {},
     "output_type": "execute_result"
    }
   ],
   "source": [
    "user_movie_matrix = ratings.pivot_table(values=['rating'] ,index=['user_idx'], columns=['movie_idx'])\n",
    "user_movie_matrix.head(5)"
   ]
  },
  {
   "cell_type": "code",
   "execution_count": 8,
   "id": "4b5c9141-67b1-44ed-8432-11b64905470f",
   "metadata": {},
   "outputs": [],
   "source": [
    "X = user_movie_matrix.fillna(0).values"
   ]
  },
  {
   "cell_type": "code",
   "execution_count": null,
   "id": "919ad8df",
   "metadata": {},
   "outputs": [
    {
     "data": {
      "text/plain": [
       "(610, 9724)"
      ]
     },
     "metadata": {},
     "output_type": "display_data"
    }
   ],
   "source": [
    "X.shape"
   ]
  },
  {
   "cell_type": "markdown",
   "id": "1d85079b-bd3b-4556-b4b3-995ab5d5361c",
   "metadata": {},
   "source": [
    "### Null values (Unwatched movies)"
   ]
  },
  {
   "cell_type": "code",
   "execution_count": 35,
   "id": "4b8b9d5c",
   "metadata": {},
   "outputs": [
    {
     "data": {
      "text/plain": [
       "array([[False, False, False, ...,  True,  True,  True],\n",
       "       [ True,  True,  True, ...,  True,  True,  True],\n",
       "       [ True,  True,  True, ...,  True,  True,  True],\n",
       "       ...,\n",
       "       [False, False,  True, ...,  True,  True,  True],\n",
       "       [False,  True,  True, ...,  True,  True,  True],\n",
       "       [False,  True, False, ..., False, False, False]])"
      ]
     },
     "execution_count": 35,
     "metadata": {},
     "output_type": "execute_result"
    }
   ],
   "source": [
    "K = np.isnan(user_movie_matrix.values)\n",
    "K"
   ]
  },
  {
   "cell_type": "markdown",
   "id": "206ea160",
   "metadata": {},
   "source": [
    "### Watched movies"
   ]
  },
  {
   "cell_type": "code",
   "execution_count": 36,
   "id": "818d8bd8-c461-4ce9-8c37-91e26439225b",
   "metadata": {},
   "outputs": [
    {
     "data": {
      "text/plain": [
       "array([[ True,  True,  True, ..., False, False, False],\n",
       "       [False, False, False, ..., False, False, False],\n",
       "       [False, False, False, ..., False, False, False],\n",
       "       ...,\n",
       "       [ True,  True, False, ..., False, False, False],\n",
       "       [ True, False, False, ..., False, False, False],\n",
       "       [ True, False,  True, ...,  True,  True,  True]])"
      ]
     },
     "execution_count": 36,
     "metadata": {},
     "output_type": "execute_result"
    }
   ],
   "source": [
    "M = ~K\n",
    "M"
   ]
  },
  {
   "cell_type": "markdown",
   "id": "f8ff212a-4359-44f7-9a05-e2538220836e",
   "metadata": {},
   "source": [
    "## SVD Calculation"
   ]
  },
  {
   "cell_type": "code",
   "execution_count": 38,
   "id": "f0ef7866-82ef-4c84-9134-8fd8721646a9",
   "metadata": {},
   "outputs": [
    {
     "data": {
      "text/plain": [
       "((610, 610), (610,), (610, 9724))"
      ]
     },
     "execution_count": 38,
     "metadata": {},
     "output_type": "execute_result"
    }
   ],
   "source": [
    "U, S, VT = np.linalg.svd(X, full_matrices=False)\n",
    "U.shape, S.shape, VT.shape"
   ]
  },
  {
   "cell_type": "markdown",
   "id": "004780f7-5027-4214-bcab-f101bc28b2b6",
   "metadata": {},
   "source": [
    "## Eigen values plot"
   ]
  },
  {
   "cell_type": "code",
   "execution_count": 39,
   "id": "57186962-78d7-4143-b837-86c832d653d0",
   "metadata": {},
   "outputs": [
    {
     "data": {
      "text/plain": [
       "(array([  0,  10,  20,  30,  40,  50,  60,  70,  80,  90, 100]),\n",
       " array([  1,  61, 122, 183, 244, 305, 366, 427, 488, 549, 610]))"
      ]
     },
     "execution_count": 39,
     "metadata": {},
     "output_type": "execute_result"
    }
   ],
   "source": [
    "deciles = (np.linspace(0,1,11)*100).astype('int')\n",
    "dims = np.linspace(1, len(S), 11).astype('int')\n",
    "deciles, dims"
   ]
  },
  {
   "cell_type": "code",
   "execution_count": 66,
   "id": "6d559bb6-8425-40b3-b2cc-bd626308521b",
   "metadata": {},
   "outputs": [
    {
     "data": {
      "image/png": "[encoded data removed]",
      "text/plain": [
       "<Figure size 1000x500 with 2 Axes>"
      ]
     },
     "metadata": {},
     "output_type": "display_data"
    }
   ],
   "source": [
    "fig, ax = plt.subplots(1, 2, figsize=(10, 5))\n",
    "\n",
    "eig_value_coverage = S.cumsum()/S.sum()\n",
    "coverage = np.round(eig_value_coverage[dims-1]*100, 0)\n",
    "table = np.int32(np.c_[coverage, dims])\n",
    "\n",
    "ax[0].plot(eig_value_coverage, \"--\", color='k')\n",
    "ax[0].hlines(deciles/100, xmin=0, xmax=len(S), alpha=0.4, color='k', linestyle='--')\n",
    "ax[0].vlines(dims, ymin=0, ymax=1, alpha=0.4, color='r', linestyle='--')\n",
    "\n",
    "ax[0].set_xticks(dims)\n",
    "ax[0].set_yticks(deciles/100)\n",
    "ax[0].grid()\n",
    "\n",
    "ax[1].table(cellText=table, colLabels=['coverage', 'dimensions'], loc='center')\n",
    "ax[1].axis('off')\n",
    "\n",
    "plt.show()"
   ]
  },
  {
   "cell_type": "markdown",
   "id": "59624444-c285-4ab2-846d-b966fa847d7e",
   "metadata": {},
   "source": [
    "## Low Rank Matrix"
   ]
  },
  {
   "cell_type": "code",
   "execution_count": 73,
   "id": "d12c312c-ce42-4cd6-824f-a6a9d880f26c",
   "metadata": {},
   "outputs": [],
   "source": [
    "def low_rank_matrix(U, S, VT, rank):\n",
    "    X_tilde = U[:,:rank] @ np.diag(S[:rank]) @ VT[:rank, :]\n",
    "    return X_tilde"
   ]
  },
  {
   "cell_type": "markdown",
   "id": "9c40f56c-3fd2-4f72-a866-61104dc17eae",
   "metadata": {},
   "source": [
    "## Loss : RMSE"
   ]
  },
  {
   "cell_type": "code",
   "execution_count": 74,
   "id": "3e539cb4-3d20-42c0-a2bc-dada3948755d",
   "metadata": {},
   "outputs": [],
   "source": [
    "def loss(X, U, S, VT, rank, M):\n",
    "    X_tilde = low_rank_matrix(U, S, VT, rank)\n",
    "    return np.sqrt(np.square(X - X_tilde, where=M).sum())"
   ]
  },
  {
   "cell_type": "code",
   "execution_count": 75,
   "id": "ae1a0ed9-2ae0-4985-8255-38d841e75026",
   "metadata": {},
   "outputs": [
    {
     "data": {
      "image/png": "[encoded data removed]",
      "text/plain": [
       "<Figure size 800x500 with 1 Axes>"
      ]
     },
     "metadata": {},
     "output_type": "display_data"
    }
   ],
   "source": [
    "l_losses = []\n",
    "\n",
    "ranks = [2, 10, 20, 30, 50, 100, 150, 200, 300, 600]\n",
    "for i in ranks:\n",
    "    l_losses.append(loss(X, U, S, VT, i, M))\n",
    "\n",
    "fig, ax = plt.subplots(1, 1, figsize=(8,5))\n",
    "\n",
    "ax.plot(ranks, l_losses, 'ko-')\n",
    "\n",
    "ax.grid()\n",
    "plt.show()"
   ]
  },
  {
   "cell_type": "markdown",
   "id": "c8e8cf3f-9447-4863-957c-3dc69b2c7703",
   "metadata": {},
   "source": [
    "## single prediction"
   ]
  },
  {
   "cell_type": "code",
   "execution_count": 145,
   "id": "cfc3d5ef-b610-4179-bb37-4d53e1698ee8",
   "metadata": {},
   "outputs": [],
   "source": [
    "def get_prediction(user_idx, movie_idx, U, S, VT, rank=None):\n",
    "    rank = rank or len(S)\n",
    "    return np.round(U[user_idx,:rank] @ np.diag(S[:rank]) @ VT[: rank, movie_idx], 2)"
   ]
  },
  {
   "cell_type": "code",
   "execution_count": 148,
   "id": "9bf5f2f1-c88e-421e-8513-88ccd9d900a8",
   "metadata": {},
   "outputs": [],
   "source": [
    "user_idx = 0\n",
    "new_ratings = get_prediction(user_idx, ..., U, S, VT, 100)"
   ]
  },
  {
   "cell_type": "code",
   "execution_count": 149,
   "id": "04a0288b",
   "metadata": {},
   "outputs": [
    {
     "data": {
      "text/plain": [
       "array([ 3.48,  3.14,  3.8 , ..., -0.01, -0.01, -0.01])"
      ]
     },
     "execution_count": 149,
     "metadata": {},
     "output_type": "execute_result"
    }
   ],
   "source": [
    "new_ratings"
   ]
  },
  {
   "cell_type": "markdown",
   "id": "102c1c33-0f3d-47bc-821d-6aa50ab03f8d",
   "metadata": {},
   "source": [
    "## user idx based top non watched/rated movie recommendations "
   ]
  },
  {
   "cell_type": "code",
   "execution_count": 192,
   "id": "2311be25-5d99-4aba-9389-eee8c127ee02",
   "metadata": {},
   "outputs": [],
   "source": [
    "user_idx = 10\n",
    "rank = 100\n",
    "top_n_movies = 10"
   ]
  },
  {
   "cell_type": "code",
   "execution_count": 193,
   "id": "61bafd08-bc2d-4a70-9a7b-2a2cb8303e14",
   "metadata": {},
   "outputs": [],
   "source": [
    "user_vector = user_movie_matrix.iloc[user_idx].values\n",
    "non_rated_movies_idx = np.isnan(user_vector)\n",
    "new_movies_ratings = get_prediction(user_idx, ..., U, S, VT, rank)"
   ]
  },
  {
   "cell_type": "code",
   "execution_count": 194,
   "id": "7df149e8-edf3-4de2-8d74-cdbe7293b534",
   "metadata": {},
   "outputs": [
    {
     "data": {
      "text/plain": [
       "array([  7,  20,  25, 463,  34, 472, 232, 121,  42,  26])"
      ]
     },
     "execution_count": 194,
     "metadata": {},
     "output_type": "execute_result"
    }
   ],
   "source": [
    "top_n_idxs = np.c_[np.argsort(new_movies_ratings)][non_rated_movies_idx][::-1][:top_n_movies, 0]\n",
    "top_n_idxs"
   ]
  },
  {
   "cell_type": "code",
   "execution_count": 195,
   "id": "92ccf608",
   "metadata": {},
   "outputs": [
    {
     "data": {
      "text/html": [
       "<div>\n",
       "<style scoped>\n",
       "    .dataframe tbody tr th:only-of-type {\n",
       "        vertical-align: middle;\n",
       "    }\n",
       "\n",
       "    .dataframe tbody tr th {\n",
       "        vertical-align: top;\n",
       "    }\n",
       "\n",
       "    .dataframe thead th {\n",
       "        text-align: right;\n",
       "    }\n",
       "</style>\n",
       "<table border=\"1\" class=\"dataframe\">\n",
       "  <thead>\n",
       "    <tr style=\"text-align: right;\">\n",
       "      <th></th>\n",
       "      <th>userId</th>\n",
       "      <th>movieId</th>\n",
       "      <th>rating</th>\n",
       "      <th>timestamp</th>\n",
       "      <th>user_idx</th>\n",
       "      <th>movie_idx</th>\n",
       "      <th>movie_idxx</th>\n",
       "      <th>title</th>\n",
       "      <th>genres</th>\n",
       "    </tr>\n",
       "  </thead>\n",
       "  <tbody>\n",
       "    <tr>\n",
       "      <th>1259</th>\n",
       "      <td>11</td>\n",
       "      <td>6</td>\n",
       "      <td>5.0</td>\n",
       "      <td>902154266</td>\n",
       "      <td>10</td>\n",
       "      <td>2</td>\n",
       "      <td>1.0</td>\n",
       "      <td>Grumpier Old Men (1995)</td>\n",
       "      <td>Comedy|Romance</td>\n",
       "    </tr>\n",
       "    <tr>\n",
       "      <th>1272</th>\n",
       "      <td>11</td>\n",
       "      <td>349</td>\n",
       "      <td>5.0</td>\n",
       "      <td>902154342</td>\n",
       "      <td>10</td>\n",
       "      <td>19</td>\n",
       "      <td>3604.0</td>\n",
       "      <td>Money Train (1995)</td>\n",
       "      <td>Action|Comedy|Crime|Drama|Thriller</td>\n",
       "    </tr>\n",
       "    <tr>\n",
       "      <th>1314</th>\n",
       "      <td>11</td>\n",
       "      <td>1784</td>\n",
       "      <td>5.0</td>\n",
       "      <td>902155043</td>\n",
       "      <td>10</td>\n",
       "      <td>729</td>\n",
       "      <td>3543.0</td>\n",
       "      <td>East of Eden (1955)</td>\n",
       "      <td>Drama</td>\n",
       "    </tr>\n",
       "    <tr>\n",
       "      <th>1313</th>\n",
       "      <td>11</td>\n",
       "      <td>1721</td>\n",
       "      <td>5.0</td>\n",
       "      <td>902154989</td>\n",
       "      <td>10</td>\n",
       "      <td>987</td>\n",
       "      <td>359.0</td>\n",
       "      <td>This Is Spinal Tap (1984)</td>\n",
       "      <td>Comedy</td>\n",
       "    </tr>\n",
       "    <tr>\n",
       "      <th>1311</th>\n",
       "      <td>11</td>\n",
       "      <td>1693</td>\n",
       "      <td>5.0</td>\n",
       "      <td>902155102</td>\n",
       "      <td>10</td>\n",
       "      <td>986</td>\n",
       "      <td>2145.0</td>\n",
       "      <td>Ben-Hur (1959)</td>\n",
       "      <td>Action|Adventure|Drama</td>\n",
       "    </tr>\n",
       "    <tr>\n",
       "      <th>1304</th>\n",
       "      <td>11</td>\n",
       "      <td>1584</td>\n",
       "      <td>5.0</td>\n",
       "      <td>902155136</td>\n",
       "      <td>10</td>\n",
       "      <td>726</td>\n",
       "      <td>3732.0</td>\n",
       "      <td>To Be or Not to Be (1942)</td>\n",
       "      <td>Comedy|Drama|War</td>\n",
       "    </tr>\n",
       "    <tr>\n",
       "      <th>1299</th>\n",
       "      <td>11</td>\n",
       "      <td>1408</td>\n",
       "      <td>5.0</td>\n",
       "      <td>902154383</td>\n",
       "      <td>10</td>\n",
       "      <td>94</td>\n",
       "      <td>296.0</td>\n",
       "      <td>Nobody Loves Me (Keiner liebt mich) (1994)</td>\n",
       "      <td>Comedy|Drama</td>\n",
       "    </tr>\n",
       "    <tr>\n",
       "      <th>1293</th>\n",
       "      <td>11</td>\n",
       "      <td>1101</td>\n",
       "      <td>5.0</td>\n",
       "      <td>901200233</td>\n",
       "      <td>10</td>\n",
       "      <td>724</td>\n",
       "      <td>6541.0</td>\n",
       "      <td>Lost Horizon (1937)</td>\n",
       "      <td>Drama</td>\n",
       "    </tr>\n",
       "    <tr>\n",
       "      <th>1287</th>\n",
       "      <td>11</td>\n",
       "      <td>593</td>\n",
       "      <td>5.0</td>\n",
       "      <td>902155102</td>\n",
       "      <td>10</td>\n",
       "      <td>34</td>\n",
       "      <td>1859.0</td>\n",
       "      <td>It Takes Two (1995)</td>\n",
       "      <td>Children|Comedy</td>\n",
       "    </tr>\n",
       "    <tr>\n",
       "      <th>1285</th>\n",
       "      <td>11</td>\n",
       "      <td>529</td>\n",
       "      <td>5.0</td>\n",
       "      <td>902155043</td>\n",
       "      <td>10</td>\n",
       "      <td>974</td>\n",
       "      <td>86.0</td>\n",
       "      <td>Highlander (1986)</td>\n",
       "      <td>Action|Adventure|Fantasy</td>\n",
       "    </tr>\n",
       "  </tbody>\n",
       "</table>\n",
       "</div>"
      ],
      "text/plain": [
       "      userId  movieId  rating  timestamp  user_idx  movie_idx  movie_idxx  \\\n",
       "1259      11        6     5.0  902154266        10          2         1.0   \n",
       "1272      11      349     5.0  902154342        10         19      3604.0   \n",
       "1314      11     1784     5.0  902155043        10        729      3543.0   \n",
       "1313      11     1721     5.0  902154989        10        987       359.0   \n",
       "1311      11     1693     5.0  902155102        10        986      2145.0   \n",
       "1304      11     1584     5.0  902155136        10        726      3732.0   \n",
       "1299      11     1408     5.0  902154383        10         94       296.0   \n",
       "1293      11     1101     5.0  901200233        10        724      6541.0   \n",
       "1287      11      593     5.0  902155102        10         34      1859.0   \n",
       "1285      11      529     5.0  902155043        10        974        86.0   \n",
       "\n",
       "                                           title  \\\n",
       "1259                     Grumpier Old Men (1995)   \n",
       "1272                          Money Train (1995)   \n",
       "1314                         East of Eden (1955)   \n",
       "1313                   This Is Spinal Tap (1984)   \n",
       "1311                              Ben-Hur (1959)   \n",
       "1304                   To Be or Not to Be (1942)   \n",
       "1299  Nobody Loves Me (Keiner liebt mich) (1994)   \n",
       "1293                         Lost Horizon (1937)   \n",
       "1287                         It Takes Two (1995)   \n",
       "1285                           Highlander (1986)   \n",
       "\n",
       "                                  genres  \n",
       "1259                      Comedy|Romance  \n",
       "1272  Action|Comedy|Crime|Drama|Thriller  \n",
       "1314                               Drama  \n",
       "1313                              Comedy  \n",
       "1311              Action|Adventure|Drama  \n",
       "1304                    Comedy|Drama|War  \n",
       "1299                        Comedy|Drama  \n",
       "1293                               Drama  \n",
       "1287                     Children|Comedy  \n",
       "1285            Action|Adventure|Fantasy  "
      ]
     },
     "execution_count": 195,
     "metadata": {},
     "output_type": "execute_result"
    }
   ],
   "source": [
    "(\n",
    "    ratings[ratings[\"user_idx\"] == user_idx]\n",
    "    .sort_values(by=\"rating\", ascending=False).head(10)\n",
    "    .join(other=movies[[\"movie_idx\", \"title\", \"genres\"]], on=[\"movie_idx\"], how=\"inner\", rsuffix=\"x\")\n",
    ")"
   ]
  },
  {
   "cell_type": "code",
   "execution_count": 196,
   "id": "e9804e1b-e1e4-4421-b434-5d0cbf620052",
   "metadata": {},
   "outputs": [
    {
     "data": {
      "text/html": [
       "<div>\n",
       "<style scoped>\n",
       "    .dataframe tbody tr th:only-of-type {\n",
       "        vertical-align: middle;\n",
       "    }\n",
       "\n",
       "    .dataframe tbody tr th {\n",
       "        vertical-align: top;\n",
       "    }\n",
       "\n",
       "    .dataframe thead th {\n",
       "        text-align: right;\n",
       "    }\n",
       "</style>\n",
       "<table border=\"1\" class=\"dataframe\">\n",
       "  <thead>\n",
       "    <tr style=\"text-align: right;\">\n",
       "      <th></th>\n",
       "      <th>movieId</th>\n",
       "      <th>title</th>\n",
       "      <th>genres</th>\n",
       "      <th>movie_idx</th>\n",
       "    </tr>\n",
       "  </thead>\n",
       "  <tbody>\n",
       "    <tr>\n",
       "      <th>97</th>\n",
       "      <td>110</td>\n",
       "      <td>Braveheart (1995)</td>\n",
       "      <td>Action|Drama|War</td>\n",
       "      <td>7.0</td>\n",
       "    </tr>\n",
       "    <tr>\n",
       "      <th>123</th>\n",
       "      <td>150</td>\n",
       "      <td>Apollo 13 (1995)</td>\n",
       "      <td>Adventure|Drama|IMAX</td>\n",
       "      <td>463.0</td>\n",
       "    </tr>\n",
       "    <tr>\n",
       "      <th>277</th>\n",
       "      <td>318</td>\n",
       "      <td>Shawshank Redemption, The (1994)</td>\n",
       "      <td>Crime|Drama</td>\n",
       "      <td>232.0</td>\n",
       "    </tr>\n",
       "    <tr>\n",
       "      <th>314</th>\n",
       "      <td>356</td>\n",
       "      <td>Forrest Gump (1994)</td>\n",
       "      <td>Comedy|Drama|Romance|War</td>\n",
       "      <td>20.0</td>\n",
       "    </tr>\n",
       "    <tr>\n",
       "      <th>337</th>\n",
       "      <td>380</td>\n",
       "      <td>True Lies (1994)</td>\n",
       "      <td>Action|Adventure|Comedy|Romance|Thriller</td>\n",
       "      <td>472.0</td>\n",
       "    </tr>\n",
       "    <tr>\n",
       "      <th>398</th>\n",
       "      <td>457</td>\n",
       "      <td>Fugitive, The (1993)</td>\n",
       "      <td>Thriller</td>\n",
       "      <td>25.0</td>\n",
       "    </tr>\n",
       "    <tr>\n",
       "      <th>418</th>\n",
       "      <td>480</td>\n",
       "      <td>Jurassic Park (1993)</td>\n",
       "      <td>Action|Adventure|Sci-Fi|Thriller</td>\n",
       "      <td>26.0</td>\n",
       "    </tr>\n",
       "    <tr>\n",
       "      <th>510</th>\n",
       "      <td>593</td>\n",
       "      <td>Silence of the Lambs, The (1991)</td>\n",
       "      <td>Crime|Horror|Thriller</td>\n",
       "      <td>34.0</td>\n",
       "    </tr>\n",
       "    <tr>\n",
       "      <th>615</th>\n",
       "      <td>780</td>\n",
       "      <td>Independence Day (a.k.a. ID4) (1996)</td>\n",
       "      <td>Action|Adventure|Sci-Fi|Thriller</td>\n",
       "      <td>42.0</td>\n",
       "    </tr>\n",
       "    <tr>\n",
       "      <th>1503</th>\n",
       "      <td>2028</td>\n",
       "      <td>Saving Private Ryan (1998)</td>\n",
       "      <td>Action|Drama|War</td>\n",
       "      <td>121.0</td>\n",
       "    </tr>\n",
       "  </tbody>\n",
       "</table>\n",
       "</div>"
      ],
      "text/plain": [
       "      movieId                                 title  \\\n",
       "97        110                     Braveheart (1995)   \n",
       "123       150                      Apollo 13 (1995)   \n",
       "277       318      Shawshank Redemption, The (1994)   \n",
       "314       356                   Forrest Gump (1994)   \n",
       "337       380                      True Lies (1994)   \n",
       "398       457                  Fugitive, The (1993)   \n",
       "418       480                  Jurassic Park (1993)   \n",
       "510       593      Silence of the Lambs, The (1991)   \n",
       "615       780  Independence Day (a.k.a. ID4) (1996)   \n",
       "1503     2028            Saving Private Ryan (1998)   \n",
       "\n",
       "                                        genres  movie_idx  \n",
       "97                            Action|Drama|War        7.0  \n",
       "123                       Adventure|Drama|IMAX      463.0  \n",
       "277                                Crime|Drama      232.0  \n",
       "314                   Comedy|Drama|Romance|War       20.0  \n",
       "337   Action|Adventure|Comedy|Romance|Thriller      472.0  \n",
       "398                                   Thriller       25.0  \n",
       "418           Action|Adventure|Sci-Fi|Thriller       26.0  \n",
       "510                      Crime|Horror|Thriller       34.0  \n",
       "615           Action|Adventure|Sci-Fi|Thriller       42.0  \n",
       "1503                          Action|Drama|War      121.0  "
      ]
     },
     "execution_count": 196,
     "metadata": {},
     "output_type": "execute_result"
    }
   ],
   "source": [
    "movies[movies['movie_idx'].isin(top_n_idxs)]"
   ]
  }
 ],
 "metadata": {
  "kernelspec": {
   "display_name": "Python 3 (ipykernel)",
   "language": "python",
   "name": "python3"
  },
  "language_info": {
   "codemirror_mode": {
    "name": "ipython",
    "version": 3
   },
   "file_extension": ".py",
   "mimetype": "text/x-python",
   "name": "python",
   "nbconvert_exporter": "python",
   "pygments_lexer": "ipython3",
   "version": "3.8.10"
  }
 },
 "nbformat": 4,
 "nbformat_minor": 5
}
